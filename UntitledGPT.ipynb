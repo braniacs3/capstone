{
  "nbformat": 4,
  "nbformat_minor": 5,
  "metadata": {
    "noteable-chatgpt": {
      "create_notebook": {
        "openai_conversation_id": "1ac1d27b-82a9-5e71-84f1-d3812de01775",
        "openai_ephemeral_user_id": "9d2b360d-3675-5398-8ac8-d1ce1c127e7b",
        "openai_subdivision1_iso_code": "US-TX"
      }
    },
    "kernel_info": {
      "name": "python3"
    },
    "noteable": {
      "last_transaction_id": "67bac8d9-ac22-4c8b-adf8-f1e931460afe",
      "db_connection": "@184c35210f7d4624b832af08d9588ae0"
    },
    "kernelspec": {
      "display_name": "Python 3.9",
      "language": "python",
      "name": "python3"
    },
    "selected_hardware_size": "small"
  },
  "cells": [
    {
      "id": "8e365fbe-1ae9-4c10-b321-6d2e17967c4b",
      "cell_type": "code",
      "metadata": {
        "jupyter": {
          "outputs_hidden": false,
          "source_hidden": false
        },
        "noteable": {
          "cell_type": "code"
        }
      },
      "execution_count": null,
      "source": "",
      "outputs": []
    },
    {
      "id": "2b18ce37-4444-40be-94c4-51de131acf3b",
      "cell_type": "code",
      "metadata": {
        "noteable": {
          "assign_results_to": "sql_df_bgml",
          "cell_type": "sql",
          "db_connection": "@184c35210f7d4624b832af08d9588ae0",
          "output_collection_id": "cfdccb4d-a1cd-4686-bcc8-7d9f9c3c61ce"
        },
        "ExecuteTime": {
          "end_time": "2023-08-13T19:59:10.830467+00:00",
          "start_time": "2023-08-13T19:59:09.027360+00:00"
        },
        "datalink": {
          "6f8d8519-6066-49cd-a781-a59d3fdcc3c0": {
            "applied_filters": [],
            "dataframe_info": {
              "default_index_used": true,
              "orig_num_cols": 21,
              "orig_num_rows": 1000,
              "orig_size_bytes": 176000,
              "truncated_num_cols": 21,
              "truncated_num_rows": 1000,
              "truncated_size_bytes": 176000,
              "truncated_string_columns": []
            },
            "display_id": "6f8d8519-6066-49cd-a781-a59d3fdcc3c0",
            "dx_settings": {
              "ALLOW_NOTEABLE_ATTRS": true,
              "COLUMN_SAMPLING_METHOD": "outer",
              "DB_LOCATION": ":memory:",
              "DEV_MODE": false,
              "DISPLAY_MAX_COLUMNS": 100,
              "DISPLAY_MAX_ROWS": 50000,
              "DISPLAY_MODE": "simple",
              "ENABLE_ASSIGNMENT": true,
              "ENABLE_DATALINK": true,
              "FLATTEN_COLUMN_VALUES": true,
              "FLATTEN_INDEX_VALUES": false,
              "GENERATE_DEX_METADATA": false,
              "HTML_TABLE_SCHEMA": false,
              "LOG_LEVEL": 30,
              "MAX_RENDER_SIZE_BYTES": 104857600,
              "MAX_STRING_LENGTH": 250,
              "NUM_PAST_SAMPLES_TRACKED": 3,
              "RANDOM_STATE": 12648430,
              "RESET_INDEX_VALUES": false,
              "ROW_SAMPLING_METHOD": "random",
              "SAMPLING_FACTOR": 0.1,
              "SAMPLING_METHOD": "random",
              "STRINGIFY_COLUMN_VALUES": true,
              "STRINGIFY_INDEX_VALUES": false
            },
            "sample_history": [],
            "sampling_time": "2023-08-13T19:53:44.618797",
            "user_variable_name": "sql_df_bgml",
            "variable_name": "sql_df_bgml"
          },
          "eb2f94b3-b5df-498e-a63c-55d3551a2578": {
            "applied_filters": [],
            "dataframe_info": {
              "default_index_used": true,
              "orig_num_cols": 1,
              "orig_num_rows": 33,
              "orig_size_bytes": 528,
              "truncated_num_cols": 1,
              "truncated_num_rows": 33,
              "truncated_size_bytes": 528,
              "truncated_string_columns": []
            },
            "display_id": "eb2f94b3-b5df-498e-a63c-55d3551a2578",
            "dx_settings": {
              "ALLOW_NOTEABLE_ATTRS": true,
              "COLUMN_SAMPLING_METHOD": "outer",
              "DB_LOCATION": ":memory:",
              "DEV_MODE": false,
              "DISPLAY_MAX_COLUMNS": 100,
              "DISPLAY_MAX_ROWS": 50000,
              "DISPLAY_MODE": "simple",
              "ENABLE_ASSIGNMENT": true,
              "ENABLE_DATALINK": true,
              "FLATTEN_COLUMN_VALUES": true,
              "FLATTEN_INDEX_VALUES": false,
              "GENERATE_DEX_METADATA": false,
              "HTML_TABLE_SCHEMA": false,
              "LOG_LEVEL": 30,
              "MAX_RENDER_SIZE_BYTES": 104857600,
              "MAX_STRING_LENGTH": 250,
              "NUM_PAST_SAMPLES_TRACKED": 3,
              "RANDOM_STATE": 12648430,
              "RESET_INDEX_VALUES": false,
              "ROW_SAMPLING_METHOD": "random",
              "SAMPLING_FACTOR": 0.1,
              "SAMPLING_METHOD": "random",
              "STRINGIFY_COLUMN_VALUES": true,
              "STRINGIFY_INDEX_VALUES": false
            },
            "sample_history": [],
            "sampling_time": "2023-08-13T19:59:10.673751",
            "user_variable_name": "sql_df_bgml",
            "variable_name": "sql_df_bgml"
          }
        }
      },
      "execution_count": null,
      "source": "SELECT distinct carrier_name FROM `civic-beaker-391813.bts_flights.Delay`;",
      "outputs": []
    },
    {
      "id": "d6fbc41f-d73b-4d49-9798-0f77b4750e7e",
      "cell_type": "code",
      "metadata": {
        "noteable": {
          "cell_type": "code",
          "output_collection_id": "6af86d9b-82e9-4ece-8cc3-37bc2a97b745"
        },
        "ExecuteTime": {
          "end_time": "2023-08-13T19:54:08.901205+00:00",
          "start_time": "2023-08-13T19:54:08.734761+00:00"
        }
      },
      "execution_count": null,
      "source": "import pandas as pd\nsql_df_bgml.info()",
      "outputs": []
    },
    {
      "id": "6e4d93c0-97fb-4ce3-81d0-843e6464c51c",
      "cell_type": "code",
      "metadata": {
        "noteable": {
          "assign_results_to": "sql_df_nwsw",
          "cell_type": "sql",
          "db_connection": "bts",
          "output_collection_id": "d554b480-7e84-4f27-be51-2785bfee923a"
        },
        "ExecuteTime": {
          "end_time": "2023-08-13T19:59:56.562147+00:00",
          "start_time": "2023-08-13T19:59:55.052510+00:00"
        },
        "datalink": {
          "1556ba03-7a62-4d6e-a578-9ddd5ec9f9ab": {
            "applied_filters": [],
            "dataframe_info": {
              "default_index_used": false,
              "orig_num_cols": 6,
              "orig_num_rows": 0,
              "orig_size_bytes": 0,
              "truncated_num_cols": 6,
              "truncated_num_rows": 0,
              "truncated_size_bytes": 0,
              "truncated_string_columns": []
            },
            "display_id": "1556ba03-7a62-4d6e-a578-9ddd5ec9f9ab",
            "dx_settings": {
              "ALLOW_NOTEABLE_ATTRS": true,
              "COLUMN_SAMPLING_METHOD": "outer",
              "DB_LOCATION": ":memory:",
              "DEV_MODE": false,
              "DISPLAY_MAX_COLUMNS": 100,
              "DISPLAY_MAX_ROWS": 50000,
              "DISPLAY_MODE": "simple",
              "ENABLE_ASSIGNMENT": true,
              "ENABLE_DATALINK": true,
              "FLATTEN_COLUMN_VALUES": true,
              "FLATTEN_INDEX_VALUES": false,
              "GENERATE_DEX_METADATA": false,
              "HTML_TABLE_SCHEMA": false,
              "LOG_LEVEL": 30,
              "MAX_RENDER_SIZE_BYTES": 104857600,
              "MAX_STRING_LENGTH": 250,
              "NUM_PAST_SAMPLES_TRACKED": 3,
              "RANDOM_STATE": 12648430,
              "RESET_INDEX_VALUES": false,
              "ROW_SAMPLING_METHOD": "random",
              "SAMPLING_FACTOR": 0.1,
              "SAMPLING_METHOD": "random",
              "STRINGIFY_COLUMN_VALUES": true,
              "STRINGIFY_INDEX_VALUES": false
            },
            "sample_history": [],
            "sampling_time": "2023-08-13T19:59:56.405086",
            "user_variable_name": "sql_df_nwsw",
            "variable_name": "sql_df_nwsw"
          }
        }
      },
      "execution_count": null,
      "source": "SELECT carrier_name,\nSUM(carrier_delay) AS total_carrier_delay,\nSUM(weather_delay) AS total_weather_delay,\nSUM(nas_delay) AS total_nas_delay,\nSUM(security_delay) AS total_security_delay,\nSUM(late_aircraft_delay) AS total_late_aircraft_delay\nFROM `civic-beaker-391813.bts_flights.Delay`\nWHERE carrier_name = 'American Airlines'\nGROUP BY carrier_name",
      "outputs": []
    },
    {
      "id": "fd65212c-aa3c-4371-881e-b4a6f8393557",
      "cell_type": "code",
      "metadata": {
        "noteable": {
          "cell_type": "code",
          "output_collection_id": "9c523566-5739-4add-b81c-566b39d24e05"
        },
        "ExecuteTime": {
          "end_time": "2023-08-13T20:00:28.326582+00:00",
          "start_time": "2023-08-13T20:00:27.919111+00:00"
        }
      },
      "execution_count": null,
      "source": "delay_reasons = sql_df_nwsw.iloc[0][1:].to_dict()\nsorted_delays = sorted(delay_reasons.items(), key=lambda x: x[1], reverse=True)\nsorted_delays",
      "outputs": []
    },
    {
      "id": "69882fb8-8f53-45d8-9007-b0596bba098b",
      "cell_type": "code",
      "metadata": {
        "noteable": {
          "assign_results_to": "sql_df_glrm",
          "cell_type": "sql",
          "db_connection": "bts",
          "output_collection_id": "18668a82-7558-4d9d-9799-724375242eb5"
        },
        "ExecuteTime": {
          "end_time": "2023-08-13T20:02:13.149105+00:00",
          "start_time": "2023-08-13T20:02:11.242277+00:00"
        },
        "datalink": {
          "04df1e4e-d1cf-4756-97f3-9d309bacde45": {
            "applied_filters": [],
            "dataframe_info": {
              "default_index_used": true,
              "orig_num_cols": 6,
              "orig_num_rows": 1,
              "orig_size_bytes": 56,
              "truncated_num_cols": 6,
              "truncated_num_rows": 1,
              "truncated_size_bytes": 56,
              "truncated_string_columns": []
            },
            "display_id": "04df1e4e-d1cf-4756-97f3-9d309bacde45",
            "dx_settings": {
              "ALLOW_NOTEABLE_ATTRS": true,
              "COLUMN_SAMPLING_METHOD": "outer",
              "DB_LOCATION": ":memory:",
              "DEV_MODE": false,
              "DISPLAY_MAX_COLUMNS": 100,
              "DISPLAY_MAX_ROWS": 50000,
              "DISPLAY_MODE": "simple",
              "ENABLE_ASSIGNMENT": true,
              "ENABLE_DATALINK": true,
              "FLATTEN_COLUMN_VALUES": true,
              "FLATTEN_INDEX_VALUES": false,
              "GENERATE_DEX_METADATA": false,
              "HTML_TABLE_SCHEMA": false,
              "LOG_LEVEL": 30,
              "MAX_RENDER_SIZE_BYTES": 104857600,
              "MAX_STRING_LENGTH": 250,
              "NUM_PAST_SAMPLES_TRACKED": 3,
              "RANDOM_STATE": 12648430,
              "RESET_INDEX_VALUES": false,
              "ROW_SAMPLING_METHOD": "random",
              "SAMPLING_FACTOR": 0.1,
              "SAMPLING_METHOD": "random",
              "STRINGIFY_COLUMN_VALUES": true,
              "STRINGIFY_INDEX_VALUES": false
            },
            "sample_history": [],
            "sampling_time": "2023-08-13T20:02:12.992065",
            "user_variable_name": "sql_df_glrm",
            "variable_name": "sql_df_glrm"
          }
        }
      },
      "execution_count": null,
      "source": "SELECT carrier_name,\nSUM(carrier_delay) AS total_carrier_delay,\nSUM(weather_delay) AS total_weather_delay,\nSUM(nas_delay) AS total_nas_delay,\nSUM(security_delay) AS total_security_delay,\nSUM(late_aircraft_delay) AS total_late_aircraft_delay\nFROM `civic-beaker-391813.bts_flights.Delay`\nWHERE carrier_name LIKE '%American Airlines%'\nGROUP BY carrier_name",
      "outputs": []
    },
    {
      "id": "7a299abb-5ea7-4109-b8d4-e2dbf8eda2ca",
      "cell_type": "code",
      "metadata": {
        "noteable": {
          "assign_results_to": "sql_df_ladw",
          "cell_type": "sql",
          "db_connection": "bts",
          "output_collection_id": "39017673-5309-40cf-9f75-e4f234df77fb"
        },
        "ExecuteTime": {
          "end_time": "2023-08-13T20:03:09.636078+00:00",
          "start_time": "2023-08-13T20:03:08.017013+00:00"
        },
        "datalink": {
          "d9aa5096-d777-4e30-867f-fa7f5d232bc7": {
            "applied_filters": [],
            "dataframe_info": {
              "default_index_used": true,
              "orig_num_cols": 4,
              "orig_num_rows": 1,
              "orig_size_bytes": 40,
              "truncated_num_cols": 4,
              "truncated_num_rows": 1,
              "truncated_size_bytes": 40,
              "truncated_string_columns": []
            },
            "display_id": "d9aa5096-d777-4e30-867f-fa7f5d232bc7",
            "dx_settings": {
              "ALLOW_NOTEABLE_ATTRS": true,
              "COLUMN_SAMPLING_METHOD": "outer",
              "DB_LOCATION": ":memory:",
              "DEV_MODE": false,
              "DISPLAY_MAX_COLUMNS": 100,
              "DISPLAY_MAX_ROWS": 50000,
              "DISPLAY_MODE": "simple",
              "ENABLE_ASSIGNMENT": true,
              "ENABLE_DATALINK": true,
              "FLATTEN_COLUMN_VALUES": true,
              "FLATTEN_INDEX_VALUES": false,
              "GENERATE_DEX_METADATA": false,
              "HTML_TABLE_SCHEMA": false,
              "LOG_LEVEL": 30,
              "MAX_RENDER_SIZE_BYTES": 104857600,
              "MAX_STRING_LENGTH": 250,
              "NUM_PAST_SAMPLES_TRACKED": 3,
              "RANDOM_STATE": 12648430,
              "RESET_INDEX_VALUES": false,
              "ROW_SAMPLING_METHOD": "random",
              "SAMPLING_FACTOR": 0.1,
              "SAMPLING_METHOD": "random",
              "STRINGIFY_COLUMN_VALUES": true,
              "STRINGIFY_INDEX_VALUES": false
            },
            "sample_history": [],
            "sampling_time": "2023-08-13T20:03:09.477588",
            "user_variable_name": "sql_df_ladw",
            "variable_name": "sql_df_ladw"
          }
        },
        "dx": {
          "fieldMetadata": {},
          "simpleTable": true,
          "updated": 1692222731497,
          "views": []
        }
      },
      "execution_count": null,
      "source": "SELECT MIN(year) AS start_year, MAX(year) AS end_year,\nMIN(month) AS start_month, MAX(month) AS end_month\nFROM `civic-beaker-391813.bts_flights.Delay`",
      "outputs": []
    },
    {
      "id": "2a74998f-ad77-40e3-921c-ff2879a15097",
      "cell_type": "code",
      "metadata": {
        "noteable": {
          "assign_results_to": "sql_df_nyih",
          "cell_type": "sql",
          "db_connection": "bts",
          "output_collection_id": "e0b75b1f-1b14-4bd0-b995-7fa2a0c0cbc8"
        },
        "ExecuteTime": {
          "end_time": "2023-08-13T20:08:15.161631+00:00",
          "start_time": "2023-08-13T20:08:13.261959+00:00"
        },
        "datalink": {
          "a47edca7-64d7-4b27-bce6-ef60261ddcca": {
            "applied_filters": [],
            "dataframe_info": {
              "default_index_used": true,
              "orig_num_cols": 6,
              "orig_num_rows": 1,
              "orig_size_bytes": 56,
              "truncated_num_cols": 6,
              "truncated_num_rows": 1,
              "truncated_size_bytes": 56,
              "truncated_string_columns": []
            },
            "display_id": "a47edca7-64d7-4b27-bce6-ef60261ddcca",
            "dx_settings": {
              "ALLOW_NOTEABLE_ATTRS": true,
              "COLUMN_SAMPLING_METHOD": "outer",
              "DB_LOCATION": ":memory:",
              "DEV_MODE": false,
              "DISPLAY_MAX_COLUMNS": 100,
              "DISPLAY_MAX_ROWS": 50000,
              "DISPLAY_MODE": "simple",
              "ENABLE_ASSIGNMENT": true,
              "ENABLE_DATALINK": true,
              "FLATTEN_COLUMN_VALUES": true,
              "FLATTEN_INDEX_VALUES": false,
              "GENERATE_DEX_METADATA": false,
              "HTML_TABLE_SCHEMA": false,
              "LOG_LEVEL": 30,
              "MAX_RENDER_SIZE_BYTES": 104857600,
              "MAX_STRING_LENGTH": 250,
              "NUM_PAST_SAMPLES_TRACKED": 3,
              "RANDOM_STATE": 12648430,
              "RESET_INDEX_VALUES": false,
              "ROW_SAMPLING_METHOD": "random",
              "SAMPLING_FACTOR": 0.1,
              "SAMPLING_METHOD": "random",
              "STRINGIFY_COLUMN_VALUES": true,
              "STRINGIFY_INDEX_VALUES": false
            },
            "sample_history": [],
            "sampling_time": "2023-08-13T20:08:15.004534",
            "user_variable_name": "sql_df_nyih",
            "variable_name": "sql_df_nyih"
          }
        },
        "dx": {
          "fieldMetadata": {},
          "simpleTable": true,
          "updated": 1692222739230,
          "views": []
        }
      },
      "execution_count": null,
      "source": "SELECT carrier_name,\nSUM(carrier_delay) AS total_carrier_delay,\nSUM(weather_delay) AS total_weather_delay,\nSUM(nas_delay) AS total_nas_delay,\nSUM(security_delay) AS total_security_delay,\nSUM(late_aircraft_delay) AS total_late_aircraft_delay\nFROM `civic-beaker-391813.bts_flights.Delay`\nWHERE carrier_name LIKE '%American Airlines%' AND (year = 2022 OR year = 2023)\nGROUP BY carrier_name",
      "outputs": []
    },
    {
      "id": "5be02a2d-d535-48da-a563-779c28165a34",
      "cell_type": "code",
      "metadata": {
        "noteable": {
          "cell_type": "code",
          "output_collection_id": "76ce0e38-9e7e-4207-ab51-8ca9480b8bb9"
        },
        "ExecuteTime": {
          "end_time": "2023-08-13T20:18:38.902429+00:00",
          "start_time": "2023-08-13T20:18:38.737191+00:00"
        }
      },
      "execution_count": null,
      "source": "# Given delay minutes for each reason\ndelay_minutes = {\n    'Late Aircraft Delay': 1731232,\n    'Carrier Delay': 1842659,\n    'NAS Delay': 798834,\n    'Weather Delay': 221685,\n    'Security Delay': 10041\n}\n\n# Given costs per minute for each category\ncosts_per_minute = {\n    'Crew': 28.99,\n    'Fuel': 42.15,\n    'Maintenance': 15.75,\n    'Aircraft Ownership': 10.50,\n    'Other': 3.79\n}\n\n# Mapping of delay reasons to cost categories\ndelay_to_cost_mapping = {\n    'Late Aircraft Delay': ['Fuel', 'Aircraft Ownership'],\n    'Carrier Delay': ['Maintenance', 'Crew', 'Other'],\n    'NAS Delay': ['Fuel'],\n    'Weather Delay': ['Fuel', 'Crew', 'Aircraft Ownership'],\n    'Security Delay': ['Other']\n}\n\n# Calculate the total cost for each delay reason\ntotal_costs = {}\nfor delay, minutes in delay_minutes.items():\n    cost = sum([minutes * costs_per_minute[category] for category in delay_to_cost_mapping[delay]])\n    total_costs[delay] = cost\n\ntotal_costs",
      "outputs": []
    },
    {
      "id": "74d35d01-09b5-48ac-8c8d-a267250f0cdf",
      "cell_type": "code",
      "metadata": {
        "noteable": {
          "cell_type": "code",
          "output_collection_id": "57a33037-120a-4446-b87e-6e1baf52a389"
        },
        "ExecuteTime": {
          "end_time": "2023-08-13T20:20:28.960574+00:00",
          "start_time": "2023-08-13T20:20:28.800713+00:00"
        }
      },
      "execution_count": null,
      "source": "# Given that all cost categories apply to each delay reason\ntotal_costs_all_categories = {}\nfor delay, minutes in delay_minutes.items():\n    cost = sum([minutes * cost for cost in costs_per_minute.values()])\n    total_costs_all_categories[delay] = cost\n\ntotal_costs_all_categories",
      "outputs": []
    },
    {
      "id": "5415a9c1-cddd-4b81-958a-9f7d58a78883",
      "cell_type": "code",
      "metadata": {
        "noteable": {
          "cell_type": "code",
          "output_collection_id": "152e4a43-bb5b-46d1-bbc7-de8022b227bd"
        },
        "ExecuteTime": {
          "end_time": "2023-08-13T20:22:21.425111+00:00",
          "start_time": "2023-08-13T20:22:20.358114+00:00"
        }
      },
      "execution_count": null,
      "source": "import matplotlib.pyplot as plt\n\n# Data for plotting\ndelay_reasons = list(total_costs_all_categories.keys())\ncosts = list(total_costs_all_categories.values())\n\n# Plotting the data\nplt.figure(figsize=(12, 8))\nplt.barh(delay_reasons, costs, color='skyblue')\nplt.xlabel('Cost in USD')\nplt.title('Delay Costs for American Airlines (2022 & 2023)')\nplt.gca().invert_yaxis()\nplt.grid(axis='x', linestyle='--', alpha=0.7)\nplt.show()",
      "outputs": []
    },
    {
      "id": "4905775d-d5d0-42ea-90e7-2ba79ffce539",
      "cell_type": "code",
      "metadata": {
        "noteable": {
          "cell_type": "code",
          "output_collection_id": "80c64b7e-16e5-446b-911f-379ee90db2ad"
        },
        "ExecuteTime": {
          "end_time": "2023-08-13T20:29:14.276461+00:00",
          "start_time": "2023-08-13T20:29:14.115021+00:00"
        }
      },
      "execution_count": null,
      "source": "# Calculate the monetary savings associated with a 5% reduction in delay time\n# for Late Aircraft delays and Carrier delays\n\n# 5% reduction in minutes for the two delay reasons\nreduction_percentage = 0.05\nreduced_minutes = {\n    'Late Aircraft Delay': delay_minutes['Late Aircraft Delay'] * reduction_percentage,\n    'Carrier Delay': delay_minutes['Carrier Delay'] * reduction_percentage\n}\n\n# Calculate the monetary savings for the reduced minutes\nsavings = sum([reduced_minutes[delay] * sum(costs_per_minute.values()) for delay in reduced_minutes])\n\n# Since the data is for two years (2022 & 2023), we divide the savings by 2 to get the yearly savings\nyearly_savings = savings / 2\nyearly_savings",
      "outputs": []
    },
    {
      "id": "48f4db8f-80da-4481-89b2-557891cf5522",
      "cell_type": "code",
      "metadata": {
        "noteable": {
          "assign_results_to": "sql_df_euah",
          "cell_type": "sql",
          "db_connection": "bts",
          "output_collection_id": "6ed7b084-9091-40e2-997c-fa4af9440ad9"
        },
        "ExecuteTime": {
          "end_time": "2023-08-13T20:35:38.715177+00:00",
          "start_time": "2023-08-13T20:35:37.962818+00:00"
        }
      },
      "execution_count": null,
      "source": "-- Using the 'bts' connection to query the data\nSELECT\n    origin_airport_name AS Airport_Name,\n    COUNT(*) / COUNT(DISTINCT DATE(date)) AS Avg_Delays_Per_Day,\n    PERCENTILE_CONT(0.5) WITHIN GROUP (ORDER BY COUNT(*) OVER (PARTITION BY DATE(date))) AS Median_Delays_Per_Day,\n    CAST(COUNT(*) AS FLOAT) / CAST(COUNT(DISTINCT flight_num) AS FLOAT) AS Probability_Of_Delay\nFROM `civic-beaker-391813.bts_flights.Delay`\nWHERE\n    carrier_name LIKE '%American Airlines Inc%' AND\n    dep_delay_new >= 10 AND\n    EXTRACT(YEAR FROM date) IN (2022, 2023)\nGROUP BY origin_airport_name\nORDER BY Avg_Delays_Per_Day DESC\nLIMIT 10",
      "outputs": []
    },
    {
      "id": "0395402d-1eab-4556-97fd-89a48200422b",
      "cell_type": "code",
      "metadata": {
        "noteable": {
          "assign_results_to": "sql_df_ndeo",
          "cell_type": "sql",
          "db_connection": "bts",
          "output_collection_id": "e36dadde-a0eb-4901-9a9b-7de86c71a51a"
        },
        "ExecuteTime": {
          "end_time": "2023-08-13T20:36:09.276852+00:00",
          "start_time": "2023-08-13T20:36:08.319454+00:00"
        }
      },
      "execution_count": null,
      "source": "-- Adjusted query without the median calculation for now\nSELECT\n    origin_airport_name AS Airport_Name,\n    COUNT(*) / COUNT(DISTINCT DATE(date)) AS Avg_Delays_Per_Day,\n    CAST(COUNT(*) AS FLOAT) / CAST(COUNT(DISTINCT flight_num) AS FLOAT) AS Probability_Of_Delay\nFROM `civic-beaker-391813.bts_flights.Delay`\nWHERE\n    carrier_name LIKE '%American Airlines Inc%' AND\n    dep_delay_new >= 10 AND\n    EXTRACT(YEAR FROM date) IN (2022, 2023)\nGROUP BY origin_airport_name\nORDER BY Avg_Delays_Per_Day DESC\nLIMIT 10",
      "outputs": []
    },
    {
      "id": "330ff23b-ca44-4e56-8330-7ec3a8379e11",
      "cell_type": "code",
      "metadata": {
        "noteable": {
          "assign_results_to": "sql_df_ufdx",
          "cell_type": "sql",
          "db_connection": "bts",
          "output_collection_id": "3cd85e3d-415d-410e-8de7-0e5e3ab54bca"
        },
        "ExecuteTime": {
          "end_time": "2023-08-13T20:36:41.925450+00:00",
          "start_time": "2023-08-13T20:36:40.979607+00:00"
        }
      },
      "execution_count": null,
      "source": "-- Adjusted query using the correct column name for departure delay\nSELECT\n    origin_airport_name AS Airport_Name,\n    COUNT(*) / COUNT(DISTINCT DATE(date)) AS Avg_Delays_Per_Day,\n    CAST(COUNT(*) AS FLOAT) / CAST(COUNT(DISTINCT flight_num) AS FLOAT) AS Probability_Of_Delay\nFROM `civic-beaker-391813.bts_flights.Delay`\nWHERE\n    carrier_name LIKE '%American Airlines Inc%' AND\n    dep_delay >= 10 AND\n    EXTRACT(YEAR FROM date) IN (2022, 2023)\nGROUP BY origin_airport_name\nORDER BY Avg_Delays_Per_Day DESC\nLIMIT 10",
      "outputs": []
    },
    {
      "id": "30ca3b3c-993f-4d5e-86e2-079adb791ed1",
      "cell_type": "code",
      "metadata": {
        "noteable": {
          "assign_results_to": "sql_df_qtmd",
          "cell_type": "sql",
          "db_connection": "bts",
          "output_collection_id": "3557e25e-2457-42bf-a377-5ef2078e7bf7"
        },
        "ExecuteTime": {
          "end_time": "2023-08-13T20:37:06.653518+00:00",
          "start_time": "2023-08-13T20:37:04.885849+00:00"
        },
        "datalink": {
          "7af7626e-816b-4d88-9dbd-7a7382914e11": {
            "applied_filters": [],
            "dataframe_info": {
              "default_index_used": true,
              "orig_num_cols": 21,
              "orig_num_rows": 5,
              "orig_size_bytes": 880,
              "truncated_num_cols": 21,
              "truncated_num_rows": 5,
              "truncated_size_bytes": 880,
              "truncated_string_columns": []
            },
            "display_id": "7af7626e-816b-4d88-9dbd-7a7382914e11",
            "dx_settings": {
              "ALLOW_NOTEABLE_ATTRS": true,
              "COLUMN_SAMPLING_METHOD": "outer",
              "DB_LOCATION": ":memory:",
              "DEV_MODE": false,
              "DISPLAY_MAX_COLUMNS": 100,
              "DISPLAY_MAX_ROWS": 50000,
              "DISPLAY_MODE": "simple",
              "ENABLE_ASSIGNMENT": true,
              "ENABLE_DATALINK": true,
              "FLATTEN_COLUMN_VALUES": true,
              "FLATTEN_INDEX_VALUES": false,
              "GENERATE_DEX_METADATA": false,
              "HTML_TABLE_SCHEMA": false,
              "LOG_LEVEL": 30,
              "MAX_RENDER_SIZE_BYTES": 104857600,
              "MAX_STRING_LENGTH": 250,
              "NUM_PAST_SAMPLES_TRACKED": 3,
              "RANDOM_STATE": 12648430,
              "RESET_INDEX_VALUES": false,
              "ROW_SAMPLING_METHOD": "random",
              "SAMPLING_FACTOR": 0.1,
              "SAMPLING_METHOD": "random",
              "STRINGIFY_COLUMN_VALUES": true,
              "STRINGIFY_INDEX_VALUES": false
            },
            "sample_history": [],
            "sampling_time": "2023-08-13T20:37:06.493434",
            "user_variable_name": "sql_df_qtmd",
            "variable_name": "sql_df_qtmd"
          }
        }
      },
      "execution_count": null,
      "source": "-- Fetching the first few rows to identify the correct column names\nSELECT *\nFROM `civic-beaker-391813.bts_flights.Delay`\nLIMIT 5",
      "outputs": []
    },
    {
      "id": "ec9bfbda-562e-4564-bd7e-5893dd2a4146",
      "cell_type": "code",
      "metadata": {
        "noteable": {
          "assign_results_to": "sql_df_dekd",
          "cell_type": "sql",
          "db_connection": "bts",
          "output_collection_id": "cba3ccf0-7e4d-483a-a74c-c6602f8c14b6"
        },
        "ExecuteTime": {
          "end_time": "2023-08-13T20:37:45.389833+00:00",
          "start_time": "2023-08-13T20:37:44.480176+00:00"
        }
      },
      "execution_count": null,
      "source": "-- Querying the top 10 airports with delayed flights for American Airlines Inc from 2022 - 2023\nSELECT\n    airport_name AS Airport_Name,\n    COUNT(*) / COUNT(DISTINCT DATE(CONCAT(CAST(year AS STRING), '-', CAST(month AS STRING), '-01'))) AS Avg_Delays_Per_Day,\n    CAST(COUNT(*) AS FLOAT) / CAST(COUNT(DISTINCT flight_num) AS FLOAT) AS Probability_Of_Delay\nFROM `civic-beaker-391813.bts_flights.Delay`\nWHERE\n    carrier_name LIKE '%American Airlines Inc%' AND\n    arr_delay >= 10 AND\n    year IN (2022, 2023)\nGROUP BY airport_name\nORDER BY Avg_Delays_Per_Day DESC\nLIMIT 10",
      "outputs": []
    },
    {
      "id": "9f5b0fad-d01e-48e3-92ce-57299c39c524",
      "cell_type": "code",
      "metadata": {
        "noteable": {
          "assign_results_to": "sql_df_whjw",
          "cell_type": "sql",
          "db_connection": "bts",
          "output_collection_id": "b8d7f7b9-89ca-47d0-a8ea-35b808dac5f0"
        },
        "ExecuteTime": {
          "end_time": "2023-08-13T20:38:17.614922+00:00",
          "start_time": "2023-08-13T20:38:16.719641+00:00"
        }
      },
      "execution_count": null,
      "source": "-- Adjusted query with corrected data type conversion\nSELECT\n    airport_name AS Airport_Name,\n    COUNT(*) / COUNT(DISTINCT DATE(CONCAT(CAST(year AS STRING), '-', LPAD(CAST(month AS STRING), 2, '0'), '-01'))) AS Avg_Delays_Per_Day,\n    CAST(COUNT(*) AS FLOAT64) / CAST(COUNT(DISTINCT flight_num) AS FLOAT64) AS Probability_Of_Delay\nFROM `civic-beaker-391813.bts_flights.Delay`\nWHERE\n    carrier_name LIKE '%American Airlines Inc%' AND\n    arr_delay >= 10 AND\n    year IN (2022, 2023)\nGROUP BY airport_name\nORDER BY Avg_Delays_Per_Day DESC\nLIMIT 10",
      "outputs": []
    },
    {
      "id": "2eda005a-a4b7-4488-88d3-f4ff45192d91",
      "cell_type": "code",
      "metadata": {
        "noteable": {
          "assign_results_to": "sql_df_mfst",
          "cell_type": "sql",
          "db_connection": "bts",
          "output_collection_id": "4e451931-000c-45be-a8c9-208bced2bb5f"
        },
        "ExecuteTime": {
          "end_time": "2023-08-13T20:38:48.199201+00:00",
          "start_time": "2023-08-13T20:38:46.300948+00:00"
        },
        "datalink": {
          "1a179662-f339-4311-b2b5-31fd0cb9821e": {
            "applied_filters": [],
            "dataframe_info": {
              "default_index_used": true,
              "orig_num_cols": 3,
              "orig_num_rows": 10,
              "orig_size_bytes": 320,
              "truncated_num_cols": 3,
              "truncated_num_rows": 10,
              "truncated_size_bytes": 320,
              "truncated_string_columns": []
            },
            "display_id": "1a179662-f339-4311-b2b5-31fd0cb9821e",
            "dx_settings": {
              "ALLOW_NOTEABLE_ATTRS": true,
              "COLUMN_SAMPLING_METHOD": "outer",
              "DB_LOCATION": ":memory:",
              "DEV_MODE": false,
              "DISPLAY_MAX_COLUMNS": 100,
              "DISPLAY_MAX_ROWS": 50000,
              "DISPLAY_MODE": "simple",
              "ENABLE_ASSIGNMENT": true,
              "ENABLE_DATALINK": true,
              "FLATTEN_COLUMN_VALUES": true,
              "FLATTEN_INDEX_VALUES": false,
              "GENERATE_DEX_METADATA": false,
              "HTML_TABLE_SCHEMA": false,
              "LOG_LEVEL": 30,
              "MAX_RENDER_SIZE_BYTES": 104857600,
              "MAX_STRING_LENGTH": 250,
              "NUM_PAST_SAMPLES_TRACKED": 3,
              "RANDOM_STATE": 12648430,
              "RESET_INDEX_VALUES": false,
              "ROW_SAMPLING_METHOD": "random",
              "SAMPLING_FACTOR": 0.1,
              "SAMPLING_METHOD": "random",
              "STRINGIFY_COLUMN_VALUES": true,
              "STRINGIFY_INDEX_VALUES": false
            },
            "sample_history": [],
            "sampling_time": "2023-08-13T20:38:48.042262",
            "user_variable_name": "sql_df_mfst",
            "variable_name": "sql_df_mfst"
          }
        },
        "dx": {
          "fieldMetadata": {},
          "simpleTable": true,
          "updated": 1692223537981,
          "views": []
        }
      },
      "execution_count": null,
      "source": "-- Adjusted query without referencing the non-existent column\nSELECT\n    airport_name AS Airport_Name,\n    COUNT(*) / COUNT(DISTINCT DATE(CONCAT(CAST(year AS STRING), '-', LPAD(CAST(month AS STRING), 2, '0'), '-01'))) AS Avg_Delays_Per_Day,\n    CAST(COUNT(*) AS FLOAT64) / CAST(COUNT(*) AS FLOAT64) AS Probability_Of_Delay\nFROM `civic-beaker-391813.bts_flights.Delay`\nWHERE\n    carrier_name LIKE '%American Airlines Inc%' AND\n    arr_delay >= 10 AND\n    year IN (2022, 2023)\nGROUP BY airport_name\nORDER BY Avg_Delays_Per_Day DESC\nLIMIT 10",
      "outputs": []
    },
    {
      "id": "84cf82e2-c692-415a-9715-cb266a732063",
      "cell_type": "code",
      "metadata": {
        "noteable": {
          "assign_results_to": "sql_df_ktjb",
          "cell_type": "sql",
          "db_connection": "bts",
          "output_collection_id": "0e146f9d-25bb-4489-ac87-b820fe52fa7f"
        },
        "ExecuteTime": {
          "end_time": "2023-08-13T20:41:43.128981+00:00",
          "start_time": "2023-08-13T20:41:41.348234+00:00"
        },
        "datalink": {
          "b1679217-934c-48f8-a29e-4ca0c40f05d8": {
            "applied_filters": [],
            "dataframe_info": {
              "default_index_used": true,
              "orig_num_cols": 2,
              "orig_num_rows": 10,
              "orig_size_bytes": 240,
              "truncated_num_cols": 2,
              "truncated_num_rows": 10,
              "truncated_size_bytes": 240,
              "truncated_string_columns": []
            },
            "display_id": "b1679217-934c-48f8-a29e-4ca0c40f05d8",
            "dx_settings": {
              "ALLOW_NOTEABLE_ATTRS": true,
              "COLUMN_SAMPLING_METHOD": "outer",
              "DB_LOCATION": ":memory:",
              "DEV_MODE": false,
              "DISPLAY_MAX_COLUMNS": 100,
              "DISPLAY_MAX_ROWS": 50000,
              "DISPLAY_MODE": "simple",
              "ENABLE_ASSIGNMENT": true,
              "ENABLE_DATALINK": true,
              "FLATTEN_COLUMN_VALUES": true,
              "FLATTEN_INDEX_VALUES": false,
              "GENERATE_DEX_METADATA": false,
              "HTML_TABLE_SCHEMA": false,
              "LOG_LEVEL": 30,
              "MAX_RENDER_SIZE_BYTES": 104857600,
              "MAX_STRING_LENGTH": 250,
              "NUM_PAST_SAMPLES_TRACKED": 3,
              "RANDOM_STATE": 12648430,
              "RESET_INDEX_VALUES": false,
              "ROW_SAMPLING_METHOD": "random",
              "SAMPLING_FACTOR": 0.1,
              "SAMPLING_METHOD": "random",
              "STRINGIFY_COLUMN_VALUES": true,
              "STRINGIFY_INDEX_VALUES": false
            },
            "sample_history": [],
            "sampling_time": "2023-08-13T20:41:42.972310",
            "user_variable_name": "sql_df_ktjb",
            "variable_name": "sql_df_ktjb"
          }
        },
        "dx": {
          "fieldMetadata": {},
          "simpleTable": true,
          "updated": 1692223547842,
          "views": []
        }
      },
      "execution_count": null,
      "source": "-- Querying the top 10 airports with the total number of delayed flights for American Airlines Inc from 2022 - 2023\nSELECT\n    airport_name AS Airport_Name,\n    COUNT(*) AS Total_Delays\nFROM `civic-beaker-391813.bts_flights.Delay`\nWHERE\n    carrier_name LIKE '%American Airlines Inc%' AND\n    arr_delay >= 10 AND\n    year IN (2022, 2023)\nGROUP BY airport_name\nORDER BY Total_Delays DESC\nLIMIT 10",
      "outputs": []
    },
    {
      "id": "4c09f718-d1ba-480c-aa24-41bbe3f1c4ef",
      "cell_type": "code",
      "metadata": {
        "noteable": {
          "assign_results_to": "sql_df_jsfr",
          "cell_type": "sql",
          "db_connection": "bts",
          "output_collection_id": "de95d096-9fb6-460e-994d-64fcbbc677ae"
        },
        "ExecuteTime": {
          "end_time": "2023-08-13T20:43:18.866884+00:00",
          "start_time": "2023-08-13T20:43:16.728929+00:00"
        },
        "datalink": {
          "5318b3b3-3a88-4207-8892-baf4f3a60c34": {
            "applied_filters": [],
            "dataframe_info": {
              "default_index_used": true,
              "orig_num_cols": 2,
              "orig_num_rows": 10,
              "orig_size_bytes": 240,
              "truncated_num_cols": 2,
              "truncated_num_rows": 10,
              "truncated_size_bytes": 240,
              "truncated_string_columns": []
            },
            "display_id": "5318b3b3-3a88-4207-8892-baf4f3a60c34",
            "dx_settings": {
              "ALLOW_NOTEABLE_ATTRS": true,
              "COLUMN_SAMPLING_METHOD": "outer",
              "DB_LOCATION": ":memory:",
              "DEV_MODE": false,
              "DISPLAY_MAX_COLUMNS": 100,
              "DISPLAY_MAX_ROWS": 50000,
              "DISPLAY_MODE": "simple",
              "ENABLE_ASSIGNMENT": true,
              "ENABLE_DATALINK": true,
              "FLATTEN_COLUMN_VALUES": true,
              "FLATTEN_INDEX_VALUES": false,
              "GENERATE_DEX_METADATA": false,
              "HTML_TABLE_SCHEMA": false,
              "LOG_LEVEL": 30,
              "MAX_RENDER_SIZE_BYTES": 104857600,
              "MAX_STRING_LENGTH": 250,
              "NUM_PAST_SAMPLES_TRACKED": 3,
              "RANDOM_STATE": 12648430,
              "RESET_INDEX_VALUES": false,
              "ROW_SAMPLING_METHOD": "random",
              "SAMPLING_FACTOR": 0.1,
              "SAMPLING_METHOD": "random",
              "STRINGIFY_COLUMN_VALUES": true,
              "STRINGIFY_INDEX_VALUES": false
            },
            "sample_history": [],
            "sampling_time": "2023-08-13T20:43:18.710283",
            "user_variable_name": "sql_df_ktjb",
            "variable_name": "sql_df_ktjb"
          }
        },
        "dx": {
          "fieldMetadata": {},
          "simpleTable": true,
          "updated": 1692223555948,
          "views": []
        }
      },
      "execution_count": null,
      "source": "-- Querying the top 10 airports with the total number of delayed flights for American Airlines Inc from 2022 - 2023 without the 10-minute delay requirement\nSELECT\n    airport_name AS Airport_Name,\n    COUNT(*) AS Total_Delays\nFROM `civic-beaker-391813.bts_flights.Delay`\nWHERE\n    carrier_name LIKE '%American Airlines Inc%' AND\n    year IN (2022, 2023)\nGROUP BY airport_name\nORDER BY Total_Delays DESC\nLIMIT 10",
      "outputs": []
    },
    {
      "id": "e877539d-af33-41cd-9a4a-6888c26a1d56",
      "cell_type": "code",
      "metadata": {
        "noteable": {
          "assign_results_to": "sql_df_sylo",
          "cell_type": "sql",
          "db_connection": "bts",
          "output_collection_id": "8eb8444e-4423-4352-b969-ee34c4b20417"
        },
        "ExecuteTime": {
          "end_time": "2023-08-13T20:45:35.925616+00:00",
          "start_time": "2023-08-13T20:45:34.423325+00:00"
        },
        "datalink": {
          "243b5e1a-a961-46db-8de6-fcbc4ae2b150": {
            "applied_filters": [],
            "dataframe_info": {
              "default_index_used": false,
              "orig_num_cols": 2,
              "orig_num_rows": 0,
              "orig_size_bytes": 0,
              "truncated_num_cols": 2,
              "truncated_num_rows": 0,
              "truncated_size_bytes": 0,
              "truncated_string_columns": []
            },
            "display_id": "243b5e1a-a961-46db-8de6-fcbc4ae2b150",
            "dx_settings": {
              "ALLOW_NOTEABLE_ATTRS": true,
              "COLUMN_SAMPLING_METHOD": "outer",
              "DB_LOCATION": ":memory:",
              "DEV_MODE": false,
              "DISPLAY_MAX_COLUMNS": 100,
              "DISPLAY_MAX_ROWS": 50000,
              "DISPLAY_MODE": "simple",
              "ENABLE_ASSIGNMENT": true,
              "ENABLE_DATALINK": true,
              "FLATTEN_COLUMN_VALUES": true,
              "FLATTEN_INDEX_VALUES": false,
              "GENERATE_DEX_METADATA": false,
              "HTML_TABLE_SCHEMA": false,
              "LOG_LEVEL": 30,
              "MAX_RENDER_SIZE_BYTES": 104857600,
              "MAX_STRING_LENGTH": 250,
              "NUM_PAST_SAMPLES_TRACKED": 3,
              "RANDOM_STATE": 12648430,
              "RESET_INDEX_VALUES": false,
              "ROW_SAMPLING_METHOD": "random",
              "SAMPLING_FACTOR": 0.1,
              "SAMPLING_METHOD": "random",
              "STRINGIFY_COLUMN_VALUES": true,
              "STRINGIFY_INDEX_VALUES": false
            },
            "sample_history": [],
            "sampling_time": "2023-08-13T20:45:35.769245",
            "user_variable_name": "sql_df_sylo",
            "variable_name": "sql_df_sylo"
          }
        }
      },
      "execution_count": null,
      "source": "-- Querying to check if DFW is listed as an airport with delays for American Airlines Inc from 2022 - 2023\nSELECT\n    airport_name AS Airport_Name,\n    COUNT(*) AS Total_Delays\nFROM `civic-beaker-391813.bts_flights.Delay`\nWHERE\n    carrier_name LIKE '%American Airlines Inc%' AND\n    year IN (2022, 2023) AND\n    airport_name LIKE '%DFW%'\nGROUP BY airport_name",
      "outputs": []
    },
    {
      "id": "f7e50473-d5f5-4d30-ac76-d76aedecd0f3",
      "cell_type": "code",
      "metadata": {
        "noteable": {
          "assign_results_to": "sql_df_bvst",
          "cell_type": "sql",
          "db_connection": "bts",
          "output_collection_id": "a06511a0-9c0f-41a4-84e6-251044af739a"
        },
        "ExecuteTime": {
          "end_time": "2023-08-13T20:49:57.540104+00:00",
          "start_time": "2023-08-13T20:49:56.500693+00:00"
        }
      },
      "execution_count": null,
      "source": "-- Querying the top 10 airports with the average total number of delayed flights for American Airlines Inc throughout the entire date range\nSELECT\n    airport_name AS Airport_Name,\n    AVG(COUNT(*)) AS Avg_Total_Delays\nFROM `civic-beaker-391813.bts_flights.Delay`\nWHERE\n    carrier_name LIKE '%American Airlines Inc%'\nGROUP BY airport_name\nORDER BY Avg_Total_Delays DESC\nLIMIT 10",
      "outputs": []
    },
    {
      "id": "3e0d8507-2467-4bbb-9254-2326df0c554d",
      "cell_type": "code",
      "metadata": {
        "noteable": {
          "assign_results_to": "sql_df_rpkd",
          "cell_type": "sql",
          "db_connection": "bts",
          "output_collection_id": "1b6500a7-3a1c-4721-a08d-297194934559"
        },
        "ExecuteTime": {
          "end_time": "2023-08-13T20:50:28.769501+00:00",
          "start_time": "2023-08-13T20:50:27.019971+00:00"
        },
        "datalink": {
          "6032e026-a87e-4aa9-bf84-b46680485bd9": {
            "applied_filters": [],
            "dataframe_info": {
              "default_index_used": true,
              "orig_num_cols": 2,
              "orig_num_rows": 10,
              "orig_size_bytes": 240,
              "truncated_num_cols": 2,
              "truncated_num_rows": 10,
              "truncated_size_bytes": 240,
              "truncated_string_columns": []
            },
            "display_id": "6032e026-a87e-4aa9-bf84-b46680485bd9",
            "dx_settings": {
              "ALLOW_NOTEABLE_ATTRS": true,
              "COLUMN_SAMPLING_METHOD": "outer",
              "DB_LOCATION": ":memory:",
              "DEV_MODE": false,
              "DISPLAY_MAX_COLUMNS": 100,
              "DISPLAY_MAX_ROWS": 50000,
              "DISPLAY_MODE": "simple",
              "ENABLE_ASSIGNMENT": true,
              "ENABLE_DATALINK": true,
              "FLATTEN_COLUMN_VALUES": true,
              "FLATTEN_INDEX_VALUES": false,
              "GENERATE_DEX_METADATA": false,
              "HTML_TABLE_SCHEMA": false,
              "LOG_LEVEL": 30,
              "MAX_RENDER_SIZE_BYTES": 104857600,
              "MAX_STRING_LENGTH": 250,
              "NUM_PAST_SAMPLES_TRACKED": 3,
              "RANDOM_STATE": 12648430,
              "RESET_INDEX_VALUES": false,
              "ROW_SAMPLING_METHOD": "random",
              "SAMPLING_FACTOR": 0.1,
              "SAMPLING_METHOD": "random",
              "STRINGIFY_COLUMN_VALUES": true,
              "STRINGIFY_INDEX_VALUES": false
            },
            "sample_history": [],
            "sampling_time": "2023-08-13T20:50:28.612642",
            "user_variable_name": "sql_df_rpkd",
            "variable_name": "sql_df_rpkd"
          }
        },
        "dx": {
          "fieldMetadata": {},
          "simpleTable": true,
          "updated": 1692223568287,
          "views": []
        }
      },
      "execution_count": null,
      "source": "-- Adjusted query to calculate the total number of delayed flights for American Airlines Inc throughout the entire date range\nSELECT\n    airport_name AS Airport_Name,\n    COUNT(*) AS Total_Delays\nFROM `civic-beaker-391813.bts_flights.Delay`\nWHERE\n    carrier_name LIKE '%American Airlines Inc%'\nGROUP BY airport_name\nORDER BY Total_Delays DESC\nLIMIT 10",
      "outputs": []
    },
    {
      "id": "c8f0e15f-e5ab-409e-85ff-98a25f31e55c",
      "cell_type": "code",
      "metadata": {
        "noteable": {
          "cell_type": "code",
          "output_collection_id": "bf577547-92e0-4cea-b0f4-dd28f6704fb1"
        },
        "ExecuteTime": {
          "end_time": "2023-08-13T20:53:01.736676+00:00",
          "start_time": "2023-08-13T20:53:01.556750+00:00"
        }
      },
      "execution_count": null,
      "source": "# Importing necessary libraries for creating a DNN regression model\nimport tensorflow as tf\nfrom tensorflow import keras\nfrom tensorflow.keras import layers\nfrom sklearn.model_selection import train_test_split\nfrom sklearn.preprocessing import StandardScaler\nimport pandas as pd\nimport numpy as np",
      "outputs": []
    },
    {
      "id": "47c63c92-3e36-4ef7-9ca9-bfdef5a6fb89",
      "cell_type": "code",
      "metadata": {
        "noteable": {
          "assign_results_to": "sql_df_tteg",
          "cell_type": "sql",
          "db_connection": "bts",
          "output_collection_id": "eb15460b-d587-4748-b751-c1aaac89c911"
        },
        "ExecuteTime": {
          "end_time": "2023-08-13T20:55:43.190019+00:00",
          "start_time": "2023-08-13T20:55:42.219560+00:00"
        }
      },
      "execution_count": null,
      "source": "-- Extracting data for American Airlines at the top 5 airports\nSELECT\n    year,\n    month,\n    day_of_month,\n    day_of_week,\n    airport_name,\n    COUNT(*) AS num_delays\nFROM `civic-beaker-391813.bts_flights.Delay`\nWHERE\n    carrier_name LIKE '%American Airlines Inc%' AND\n    (airport_name = 'Charlotte, NC: Charlotte Douglas International' OR\n     airport_name = 'Boston, MA: Logan International' OR\n     airport_name = 'Dallas/Fort Worth, TX: Dallas/Fort Worth International' OR\n     airport_name = 'Denver, CO: Denver International' OR\n     airport_name = 'Nashville, TN: Nashville International')\nGROUP BY year, month, day_of_month, day_of_week, airport_name\nORDER BY year, month, day_of_month, airport_name",
      "outputs": []
    },
    {
      "id": "d763e132-caec-4327-864a-0a0b01fb4629",
      "cell_type": "code",
      "metadata": {
        "noteable": {
          "assign_results_to": "sql_df_jpre",
          "cell_type": "sql",
          "db_connection": "bts",
          "output_collection_id": "087a058d-e2f6-46cc-b1af-e4ccafe7ea5c"
        },
        "ExecuteTime": {
          "end_time": "2023-08-13T20:56:14.858657+00:00",
          "start_time": "2023-08-13T20:56:13.046479+00:00"
        },
        "datalink": {
          "854c6864-b314-479a-a8ac-d8a58b205f4d": {
            "applied_filters": [],
            "dataframe_info": {
              "default_index_used": true,
              "orig_num_cols": 4,
              "orig_num_rows": 1140,
              "orig_size_bytes": 45600,
              "truncated_num_cols": 4,
              "truncated_num_rows": 1140,
              "truncated_size_bytes": 45600,
              "truncated_string_columns": []
            },
            "display_id": "854c6864-b314-479a-a8ac-d8a58b205f4d",
            "dx_settings": {
              "ALLOW_NOTEABLE_ATTRS": true,
              "COLUMN_SAMPLING_METHOD": "outer",
              "DB_LOCATION": ":memory:",
              "DEV_MODE": false,
              "DISPLAY_MAX_COLUMNS": 100,
              "DISPLAY_MAX_ROWS": 50000,
              "DISPLAY_MODE": "simple",
              "ENABLE_ASSIGNMENT": true,
              "ENABLE_DATALINK": true,
              "FLATTEN_COLUMN_VALUES": true,
              "FLATTEN_INDEX_VALUES": false,
              "GENERATE_DEX_METADATA": false,
              "HTML_TABLE_SCHEMA": false,
              "LOG_LEVEL": 30,
              "MAX_RENDER_SIZE_BYTES": 104857600,
              "MAX_STRING_LENGTH": 250,
              "NUM_PAST_SAMPLES_TRACKED": 3,
              "RANDOM_STATE": 12648430,
              "RESET_INDEX_VALUES": false,
              "ROW_SAMPLING_METHOD": "random",
              "SAMPLING_FACTOR": 0.1,
              "SAMPLING_METHOD": "random",
              "STRINGIFY_COLUMN_VALUES": true,
              "STRINGIFY_INDEX_VALUES": false
            },
            "sample_history": [],
            "sampling_time": "2023-08-13T20:56:14.696332",
            "user_variable_name": "sql_df_jpre",
            "variable_name": "sql_df_jpre"
          }
        },
        "dx": {
          "fieldMetadata": {},
          "simpleTable": true,
          "updated": 1692223887254,
          "views": []
        }
      },
      "execution_count": null,
      "source": "-- Adjusted query to extract data for American Airlines at the top 5 airports\nSELECT\n    year,\n    month,\n    airport_name,\n    COUNT(*) AS num_delays\nFROM `civic-beaker-391813.bts_flights.Delay`\nWHERE\n    carrier_name LIKE '%American Airlines Inc%' AND\n    (airport_name = 'Charlotte, NC: Charlotte Douglas International' OR\n     airport_name = 'Boston, MA: Logan International' OR\n     airport_name = 'Dallas/Fort Worth, TX: Dallas/Fort Worth International' OR\n     airport_name = 'Denver, CO: Denver International' OR\n     airport_name = 'Nashville, TN: Nashville International')\nGROUP BY year, month, airport_name\nORDER BY year, month, airport_name",
      "outputs": []
    },
    {
      "id": "ffac4ed6-c07f-4b2f-90d5-5bf90a65d182",
      "cell_type": "code",
      "metadata": {
        "noteable": {
          "cell_type": "code",
          "output_collection_id": "e5cea324-a744-48f8-9aeb-b8a35c586651"
        },
        "ExecuteTime": {
          "end_time": "2023-08-13T20:56:54.661642+00:00",
          "start_time": "2023-08-13T20:56:54.019582+00:00"
        }
      },
      "execution_count": null,
      "source": "# Feature Engineering and Data Preparation\nfrom sklearn.ensemble import RandomForestRegressor\nfrom sklearn.metrics import mean_squared_error\nfrom sklearn.model_selection import train_test_split\n# Convert the SQL result to a pandas DataFrame\ndf = pd.DataFrame(sql_df_jpre)\n# One-hot encoding for airport_name\ndf = pd.get_dummies(df, columns=['airport_name'], drop_first=True)\n# Splitting the data into training and testing sets\nX = df.drop('num_delays', axis=1)\ny = df['num_delays']\nX_train, X_test, y_train, y_test = train_test_split(X, y, test_size=0.2, random_state=42)\n# Training a Random Forest regression model\nrf = RandomForestRegressor(n_estimators=100, random_state=42)\nrf.fit(X_train, y_train)\n# Predicting on the test set\ny_pred = rf.predict(X_test)\n# Calculating the RMSE\nrmse = np.sqrt(mean_squared_error(y_test, y_pred))\nrmse",
      "outputs": []
    },
    {
      "id": "0e03aef8-a2f2-4d06-8c7d-23aca05cf4a3",
      "cell_type": "code",
      "metadata": {
        "noteable": {
          "cell_type": "code",
          "output_collection_id": "4e36f9c4-3681-449f-a73d-0c7918f7df40"
        },
        "ExecuteTime": {
          "end_time": "2023-08-13T23:49:19.796608+00:00",
          "start_time": "2023-08-13T23:49:19.234154+00:00"
        }
      },
      "execution_count": null,
      "source": "# Inspecting the distribution of the num_delays column in both training and testing datasets\ntrain_delays_distribution = y_train.value_counts(normalize=True)\ntest_delays_distribution = y_test.value_counts(normalize=True)\ntrain_delays_distribution, test_delays_distribution",
      "outputs": []
    },
    {
      "id": "c91b5101-2db9-40c8-be5c-42cd17bf2043",
      "cell_type": "code",
      "metadata": {
        "noteable": {
          "cell_type": "code",
          "output_collection_id": "3d431006-7a7c-41fc-bb43-2d48b6a7538f"
        },
        "ExecuteTime": {
          "end_time": "2023-08-13T23:49:39.969356+00:00",
          "start_time": "2023-08-13T23:49:39.794054+00:00"
        }
      },
      "execution_count": null,
      "source": "# Checking the unique values and their counts for num_delays in the entire dataset\ndf['num_delays'].value_counts()",
      "outputs": []
    },
    {
      "id": "f70acd47-a195-4bb2-83aa-fbc81635e32d",
      "cell_type": "code",
      "metadata": {
        "noteable": {
          "assign_results_to": "sql_df_gclf",
          "cell_type": "sql",
          "db_connection": "bts",
          "output_collection_id": "86cb0245-f570-4076-9ff9-9d6159b2af3f"
        },
        "ExecuteTime": {
          "end_time": "2023-08-13T23:50:15.404100+00:00",
          "start_time": "2023-08-13T23:50:12.752169+00:00"
        },
        "datalink": {
          "0807e9e2-2696-488f-908e-a44095d32ef7": {
            "applied_filters": [],
            "dataframe_info": {
              "default_index_used": true,
              "orig_num_cols": 4,
              "orig_num_rows": 1140,
              "orig_size_bytes": 45600,
              "truncated_num_cols": 4,
              "truncated_num_rows": 1140,
              "truncated_size_bytes": 45600,
              "truncated_string_columns": []
            },
            "display_id": "0807e9e2-2696-488f-908e-a44095d32ef7",
            "dx_settings": {
              "ALLOW_NOTEABLE_ATTRS": true,
              "COLUMN_SAMPLING_METHOD": "outer",
              "DB_LOCATION": ":memory:",
              "DEV_MODE": false,
              "DISPLAY_MAX_COLUMNS": 100,
              "DISPLAY_MAX_ROWS": 50000,
              "DISPLAY_MODE": "simple",
              "ENABLE_ASSIGNMENT": true,
              "ENABLE_DATALINK": true,
              "FLATTEN_COLUMN_VALUES": true,
              "FLATTEN_INDEX_VALUES": false,
              "GENERATE_DEX_METADATA": false,
              "HTML_TABLE_SCHEMA": false,
              "LOG_LEVEL": 30,
              "MAX_RENDER_SIZE_BYTES": 104857600,
              "MAX_STRING_LENGTH": 250,
              "NUM_PAST_SAMPLES_TRACKED": 3,
              "RANDOM_STATE": 12648430,
              "RESET_INDEX_VALUES": false,
              "ROW_SAMPLING_METHOD": "random",
              "SAMPLING_FACTOR": 0.1,
              "SAMPLING_METHOD": "random",
              "STRINGIFY_COLUMN_VALUES": true,
              "STRINGIFY_INDEX_VALUES": false
            },
            "sample_history": [],
            "sampling_time": "2023-08-13T23:50:15.239564",
            "user_variable_name": "sql_df_gclf",
            "variable_name": "sql_df_gclf"
          }
        },
        "dx": {
          "fieldMetadata": {},
          "simpleTable": true,
          "updated": 1692223921032,
          "views": []
        }
      },
      "execution_count": null,
      "source": "-- Re-extracting data for American Airlines at the top 5 airports\nSELECT\n    year,\n    month,\n    airport_name,\n    COUNT(*) AS num_delays\nFROM `civic-beaker-391813.bts_flights.Delay`\nWHERE\n    carrier_name LIKE '%American Airlines Inc%' AND\n    (airport_name = 'Charlotte, NC: Charlotte Douglas International' OR\n     airport_name = 'Boston, MA: Logan International' OR\n     airport_name = 'Dallas/Fort Worth, TX: Dallas/Fort Worth International' OR\n     airport_name = 'Denver, CO: Denver International' OR\n     airport_name = 'Nashville, TN: Nashville International')\nGROUP BY year, month, airport_name\nORDER BY year, month, airport_name",
      "outputs": []
    },
    {
      "id": "3e9a3713-4498-413c-a958-303fd61d09ec",
      "cell_type": "code",
      "metadata": {
        "noteable": {
          "cell_type": "code",
          "output_collection_id": "5759edf9-9de0-413a-892a-984c0a917ddc"
        },
        "ExecuteTime": {
          "end_time": "2023-08-13T23:50:38.423348+00:00",
          "start_time": "2023-08-13T23:50:38.236756+00:00"
        },
        "datalink": {
          "aab21f38-9a17-4e5b-8f49-dc737a73b82b": {
            "applied_filters": [],
            "dataframe_info": {
              "default_index_used": true,
              "orig_num_cols": 1,
              "orig_num_rows": 1,
              "orig_size_bytes": 16,
              "truncated_num_cols": 1,
              "truncated_num_rows": 1,
              "truncated_size_bytes": 16,
              "truncated_string_columns": []
            },
            "display_id": "aab21f38-9a17-4e5b-8f49-dc737a73b82b",
            "dx_settings": {
              "ALLOW_NOTEABLE_ATTRS": true,
              "COLUMN_SAMPLING_METHOD": "outer",
              "DB_LOCATION": ":memory:",
              "DEV_MODE": false,
              "DISPLAY_MAX_COLUMNS": 100,
              "DISPLAY_MAX_ROWS": 50000,
              "DISPLAY_MODE": "simple",
              "ENABLE_ASSIGNMENT": true,
              "ENABLE_DATALINK": true,
              "FLATTEN_COLUMN_VALUES": true,
              "FLATTEN_INDEX_VALUES": false,
              "GENERATE_DEX_METADATA": false,
              "HTML_TABLE_SCHEMA": false,
              "LOG_LEVEL": 30,
              "MAX_RENDER_SIZE_BYTES": 104857600,
              "MAX_STRING_LENGTH": 250,
              "NUM_PAST_SAMPLES_TRACKED": 3,
              "RANDOM_STATE": 12648430,
              "RESET_INDEX_VALUES": false,
              "ROW_SAMPLING_METHOD": "random",
              "SAMPLING_FACTOR": 0.1,
              "SAMPLING_METHOD": "random",
              "STRINGIFY_COLUMN_VALUES": true,
              "STRINGIFY_INDEX_VALUES": false
            },
            "sample_history": [],
            "sampling_time": "2023-08-13T23:50:38.266979",
            "user_variable_name": null,
            "variable_name": "unk_dataframe_e7fc6841ea224f7e9a75420ba68cdf9a"
          }
        }
      },
      "execution_count": null,
      "source": "# Checking the unique values and their counts for num_delays in the re-extracted dataset\ndf_new = pd.DataFrame(sql_df_gclf)\ndelay_counts = df_new['num_delays'].value_counts()\ndelay_counts",
      "outputs": []
    },
    {
      "id": "621fb270-f4b6-4b53-8776-1e27968c4eb8",
      "cell_type": "code",
      "metadata": {
        "noteable": {
          "assign_results_to": "sql_df_nllu",
          "cell_type": "sql",
          "db_connection": "bts",
          "output_collection_id": "6f04ea40-b5c3-49c8-b1a1-b216d14feef7"
        },
        "ExecuteTime": {
          "end_time": "2023-08-13T23:54:58.562980+00:00",
          "start_time": "2023-08-13T23:54:56.418695+00:00"
        },
        "datalink": {
          "e3ecd231-69ff-40b3-b629-5dd54176f1a6": {
            "applied_filters": [],
            "dataframe_info": {
              "default_index_used": true,
              "orig_num_cols": 20,
              "orig_num_rows": 5,
              "orig_size_bytes": 840,
              "truncated_num_cols": 20,
              "truncated_num_rows": 5,
              "truncated_size_bytes": 840,
              "truncated_string_columns": []
            },
            "display_id": "e3ecd231-69ff-40b3-b629-5dd54176f1a6",
            "dx_settings": {
              "ALLOW_NOTEABLE_ATTRS": true,
              "COLUMN_SAMPLING_METHOD": "outer",
              "DB_LOCATION": ":memory:",
              "DEV_MODE": false,
              "DISPLAY_MAX_COLUMNS": 100,
              "DISPLAY_MAX_ROWS": 50000,
              "DISPLAY_MODE": "simple",
              "ENABLE_ASSIGNMENT": true,
              "ENABLE_DATALINK": true,
              "FLATTEN_COLUMN_VALUES": true,
              "FLATTEN_INDEX_VALUES": false,
              "GENERATE_DEX_METADATA": false,
              "HTML_TABLE_SCHEMA": false,
              "LOG_LEVEL": 30,
              "MAX_RENDER_SIZE_BYTES": 104857600,
              "MAX_STRING_LENGTH": 250,
              "NUM_PAST_SAMPLES_TRACKED": 3,
              "RANDOM_STATE": 12648430,
              "RESET_INDEX_VALUES": false,
              "ROW_SAMPLING_METHOD": "random",
              "SAMPLING_FACTOR": 0.1,
              "SAMPLING_METHOD": "random",
              "STRINGIFY_COLUMN_VALUES": true,
              "STRINGIFY_INDEX_VALUES": false
            },
            "sample_history": [],
            "sampling_time": "2023-08-13T23:54:58.401852",
            "user_variable_name": "sql_df_nllu",
            "variable_name": "sql_df_nllu"
          }
        },
        "dx": {
          "fieldMetadata": {},
          "simpleTable": true,
          "updated": 1692223929248,
          "views": []
        }
      },
      "execution_count": null,
      "source": "-- Checking the first few rows of the tweets table to ensure connection\nSELECT *\nFROM `civic-beaker-391813.bts_flights.tweets`\nLIMIT 5",
      "outputs": []
    },
    {
      "id": "0f414da4-7155-43e9-a2fe-a2632c92b6e4",
      "cell_type": "code",
      "metadata": {
        "noteable": {
          "assign_results_to": "sql_df_gabv",
          "cell_type": "sql",
          "db_connection": "bts",
          "output_collection_id": "4b86a08d-373c-4dc5-82f9-f054f0339ea5"
        },
        "ExecuteTime": {
          "end_time": "2023-08-14T22:20:58.585509+00:00",
          "start_time": "2023-08-14T22:20:55.399213+00:00"
        },
        "datalink": {
          "1435aeb4-2e05-4d19-8763-199120c5e072": {
            "applied_filters": [],
            "dataframe_info": {
              "default_index_used": true,
              "orig_num_cols": 109,
              "orig_num_rows": 5,
              "orig_size_bytes": 4400,
              "truncated_num_cols": 100,
              "truncated_num_rows": 5,
              "truncated_size_bytes": 4040,
              "truncated_string_columns": []
            },
            "display_id": "1435aeb4-2e05-4d19-8763-199120c5e072",
            "dx_settings": {
              "ALLOW_NOTEABLE_ATTRS": true,
              "COLUMN_SAMPLING_METHOD": "outer",
              "DB_LOCATION": ":memory:",
              "DEV_MODE": false,
              "DISPLAY_MAX_COLUMNS": 100,
              "DISPLAY_MAX_ROWS": 50000,
              "DISPLAY_MODE": "simple",
              "ENABLE_ASSIGNMENT": true,
              "ENABLE_DATALINK": true,
              "FLATTEN_COLUMN_VALUES": true,
              "FLATTEN_INDEX_VALUES": false,
              "GENERATE_DEX_METADATA": false,
              "HTML_TABLE_SCHEMA": false,
              "LOG_LEVEL": 30,
              "MAX_RENDER_SIZE_BYTES": 104857600,
              "MAX_STRING_LENGTH": 250,
              "NUM_PAST_SAMPLES_TRACKED": 3,
              "RANDOM_STATE": 12648430,
              "RESET_INDEX_VALUES": false,
              "ROW_SAMPLING_METHOD": "random",
              "SAMPLING_FACTOR": 0.1,
              "SAMPLING_METHOD": "random",
              "STRINGIFY_COLUMN_VALUES": true,
              "STRINGIFY_INDEX_VALUES": false
            },
            "sample_history": [],
            "sampling_time": "2023-08-14T22:20:58.402949",
            "user_variable_name": "sql_df_gabv",
            "variable_name": "sql_df_gabv"
          }
        }
      },
      "execution_count": null,
      "source": "-- Checking the first few rows of the hist_flight table to ensure connection\nSELECT *\nFROM `civic-beaker-391813.bts_flights.hist_flight`\nLIMIT 5",
      "outputs": []
    },
    {
      "id": "c969403d-0930-4915-b4f0-d92200cab2c2",
      "cell_type": "code",
      "metadata": {
        "noteable": {
          "assign_results_to": "sql_df_jabx",
          "cell_type": "sql",
          "db_connection": "bts",
          "output_collection_id": "43a532ab-c090-4261-ab3b-d12f381b02b4"
        },
        "ExecuteTime": {
          "end_time": "2023-08-14T22:22:46.779710+00:00",
          "start_time": "2023-08-14T22:22:44.276495+00:00"
        },
        "datalink": {
          "8e4a0075-767d-48aa-9819-3ad2836025e5": {
            "applied_filters": [],
            "dataframe_info": {
              "default_index_used": false,
              "orig_num_cols": 2,
              "orig_num_rows": 0,
              "orig_size_bytes": 0,
              "truncated_num_cols": 2,
              "truncated_num_rows": 0,
              "truncated_size_bytes": 0,
              "truncated_string_columns": []
            },
            "display_id": "8e4a0075-767d-48aa-9819-3ad2836025e5",
            "dx_settings": {
              "ALLOW_NOTEABLE_ATTRS": true,
              "COLUMN_SAMPLING_METHOD": "outer",
              "DB_LOCATION": ":memory:",
              "DEV_MODE": false,
              "DISPLAY_MAX_COLUMNS": 100,
              "DISPLAY_MAX_ROWS": 50000,
              "DISPLAY_MODE": "simple",
              "ENABLE_ASSIGNMENT": true,
              "ENABLE_DATALINK": true,
              "FLATTEN_COLUMN_VALUES": true,
              "FLATTEN_INDEX_VALUES": false,
              "GENERATE_DEX_METADATA": false,
              "HTML_TABLE_SCHEMA": false,
              "LOG_LEVEL": 30,
              "MAX_RENDER_SIZE_BYTES": 104857600,
              "MAX_STRING_LENGTH": 250,
              "NUM_PAST_SAMPLES_TRACKED": 3,
              "RANDOM_STATE": 12648430,
              "RESET_INDEX_VALUES": false,
              "ROW_SAMPLING_METHOD": "random",
              "SAMPLING_FACTOR": 0.1,
              "SAMPLING_METHOD": "random",
              "STRINGIFY_COLUMN_VALUES": true,
              "STRINGIFY_INDEX_VALUES": false
            },
            "sample_history": [],
            "sampling_time": "2023-08-14T22:22:46.621486",
            "user_variable_name": "sql_df_jabx",
            "variable_name": "sql_df_jabx"
          }
        },
        "dx": {
          "fieldMetadata": {},
          "simpleTable": true,
          "updated": 1692223957843,
          "views": []
        }
      },
      "execution_count": null,
      "source": "-- Analyzing the data to see which airports experienced the most delays for American Airlines flights\nSELECT\n    Origin AS Airport,\n    COUNT(*) AS Total_Delays\nFROM `civic-beaker-391813.bts_flights.hist_flight`\nWHERE Reporting_Airline LIKE '%American Airlines%' AND ArrDelay > 0\nGROUP BY Origin\nORDER BY Total_Delays DESC\nLIMIT 10",
      "outputs": []
    },
    {
      "id": "dbb9bc28-2277-43d7-bffe-8f6b2f4ea6fc",
      "cell_type": "code",
      "metadata": {
        "noteable": {
          "assign_results_to": "sql_df_vlde",
          "cell_type": "sql",
          "db_connection": "bts",
          "output_collection_id": "9b827200-ef06-495b-9517-75b00377ca6e"
        },
        "ExecuteTime": {
          "end_time": "2023-08-14T22:23:17.887498+00:00",
          "start_time": "2023-08-14T22:23:15.697035+00:00"
        },
        "datalink": {
          "25496609-4d37-47be-8646-7a9c6084996f": {
            "applied_filters": [],
            "dataframe_info": {
              "default_index_used": true,
              "orig_num_cols": 1,
              "orig_num_rows": 17,
              "orig_size_bytes": 272,
              "truncated_num_cols": 1,
              "truncated_num_rows": 17,
              "truncated_size_bytes": 272,
              "truncated_string_columns": []
            },
            "display_id": "25496609-4d37-47be-8646-7a9c6084996f",
            "dx_settings": {
              "ALLOW_NOTEABLE_ATTRS": true,
              "COLUMN_SAMPLING_METHOD": "outer",
              "DB_LOCATION": ":memory:",
              "DEV_MODE": false,
              "DISPLAY_MAX_COLUMNS": 100,
              "DISPLAY_MAX_ROWS": 50000,
              "DISPLAY_MODE": "simple",
              "ENABLE_ASSIGNMENT": true,
              "ENABLE_DATALINK": true,
              "FLATTEN_COLUMN_VALUES": true,
              "FLATTEN_INDEX_VALUES": false,
              "GENERATE_DEX_METADATA": false,
              "HTML_TABLE_SCHEMA": false,
              "LOG_LEVEL": 30,
              "MAX_RENDER_SIZE_BYTES": 104857600,
              "MAX_STRING_LENGTH": 250,
              "NUM_PAST_SAMPLES_TRACKED": 3,
              "RANDOM_STATE": 12648430,
              "RESET_INDEX_VALUES": false,
              "ROW_SAMPLING_METHOD": "random",
              "SAMPLING_FACTOR": 0.1,
              "SAMPLING_METHOD": "random",
              "STRINGIFY_COLUMN_VALUES": true,
              "STRINGIFY_INDEX_VALUES": false
            },
            "sample_history": [],
            "sampling_time": "2023-08-14T22:23:17.731442",
            "user_variable_name": "sql_df_vlde",
            "variable_name": "sql_df_vlde"
          }
        },
        "dx": {
          "fieldMetadata": {},
          "simpleTable": true,
          "updated": 1692223961532,
          "views": []
        }
      },
      "execution_count": null,
      "source": "-- Checking the unique values in the Reporting_Airline column\nSELECT DISTINCT Reporting_Airline\nFROM `civic-beaker-391813.bts_flights.hist_flight`\nLIMIT 50",
      "outputs": []
    },
    {
      "id": "51651917-71d1-4e1a-8c8f-49a5611bd9cc",
      "cell_type": "code",
      "metadata": {
        "noteable": {
          "assign_results_to": "sql_df_xqvz",
          "cell_type": "sql",
          "db_connection": "bts",
          "output_collection_id": "c1a4b29a-ed01-4621-8225-a0d644d199c8"
        },
        "ExecuteTime": {
          "end_time": "2023-08-14T22:23:53.057321+00:00",
          "start_time": "2023-08-14T22:23:50.348112+00:00"
        },
        "datalink": {
          "02018e50-4521-44db-aecd-42abd9bd3583": {
            "applied_filters": [],
            "dataframe_info": {
              "default_index_used": true,
              "orig_num_cols": 2,
              "orig_num_rows": 10,
              "orig_size_bytes": 240,
              "truncated_num_cols": 2,
              "truncated_num_rows": 10,
              "truncated_size_bytes": 240,
              "truncated_string_columns": []
            },
            "display_id": "02018e50-4521-44db-aecd-42abd9bd3583",
            "dx_settings": {
              "ALLOW_NOTEABLE_ATTRS": true,
              "COLUMN_SAMPLING_METHOD": "outer",
              "DB_LOCATION": ":memory:",
              "DEV_MODE": false,
              "DISPLAY_MAX_COLUMNS": 100,
              "DISPLAY_MAX_ROWS": 50000,
              "DISPLAY_MODE": "simple",
              "ENABLE_ASSIGNMENT": true,
              "ENABLE_DATALINK": true,
              "FLATTEN_COLUMN_VALUES": true,
              "FLATTEN_INDEX_VALUES": false,
              "GENERATE_DEX_METADATA": false,
              "HTML_TABLE_SCHEMA": false,
              "LOG_LEVEL": 30,
              "MAX_RENDER_SIZE_BYTES": 104857600,
              "MAX_STRING_LENGTH": 250,
              "NUM_PAST_SAMPLES_TRACKED": 3,
              "RANDOM_STATE": 12648430,
              "RESET_INDEX_VALUES": false,
              "ROW_SAMPLING_METHOD": "random",
              "SAMPLING_FACTOR": 0.1,
              "SAMPLING_METHOD": "random",
              "STRINGIFY_COLUMN_VALUES": true,
              "STRINGIFY_INDEX_VALUES": false
            },
            "sample_history": [],
            "sampling_time": "2023-08-14T22:23:52.901177",
            "user_variable_name": "sql_df_xqvz",
            "variable_name": "sql_df_xqvz"
          }
        },
        "dx": {
          "fieldMetadata": {},
          "simpleTable": true,
          "updated": 1692223967382,
          "views": []
        }
      },
      "execution_count": null,
      "source": "-- Adjusting the query to filter by the IATA code 'AA' for American Airlines\nSELECT\n    Origin AS Airport,\n    COUNT(*) AS Total_Delays\nFROM `civic-beaker-391813.bts_flights.hist_flight`\nWHERE Reporting_Airline = 'AA' AND ArrDelay > 0\nGROUP BY Origin\nORDER BY Total_Delays DESC\nLIMIT 10",
      "outputs": []
    },
    {
      "id": "2be58736-c464-40fd-a30a-a6036ad0eb11",
      "cell_type": "code",
      "metadata": {
        "noteable": {
          "assign_results_to": "sql_df_ttmb",
          "cell_type": "sql",
          "db_connection": "bts",
          "output_collection_id": "0d6e687a-2030-4692-bea8-50727e83cc9e"
        },
        "ExecuteTime": {
          "end_time": "2023-08-14T22:25:31.895312+00:00",
          "start_time": "2023-08-14T22:25:29.253834+00:00"
        },
        "datalink": {
          "ed3c132d-f863-440c-a999-642e30c088bb": {
            "applied_filters": [],
            "dataframe_info": {
              "default_index_used": true,
              "orig_num_cols": 2,
              "orig_num_rows": 10,
              "orig_size_bytes": 240,
              "truncated_num_cols": 2,
              "truncated_num_rows": 10,
              "truncated_size_bytes": 240,
              "truncated_string_columns": []
            },
            "display_id": "ed3c132d-f863-440c-a999-642e30c088bb",
            "dx_settings": {
              "ALLOW_NOTEABLE_ATTRS": true,
              "COLUMN_SAMPLING_METHOD": "outer",
              "DB_LOCATION": ":memory:",
              "DEV_MODE": false,
              "DISPLAY_MAX_COLUMNS": 100,
              "DISPLAY_MAX_ROWS": 50000,
              "DISPLAY_MODE": "simple",
              "ENABLE_ASSIGNMENT": true,
              "ENABLE_DATALINK": true,
              "FLATTEN_COLUMN_VALUES": true,
              "FLATTEN_INDEX_VALUES": false,
              "GENERATE_DEX_METADATA": false,
              "HTML_TABLE_SCHEMA": false,
              "LOG_LEVEL": 30,
              "MAX_RENDER_SIZE_BYTES": 104857600,
              "MAX_STRING_LENGTH": 250,
              "NUM_PAST_SAMPLES_TRACKED": 3,
              "RANDOM_STATE": 12648430,
              "RESET_INDEX_VALUES": false,
              "ROW_SAMPLING_METHOD": "random",
              "SAMPLING_FACTOR": 0.1,
              "SAMPLING_METHOD": "random",
              "STRINGIFY_COLUMN_VALUES": true,
              "STRINGIFY_INDEX_VALUES": false
            },
            "sample_history": [],
            "sampling_time": "2023-08-14T22:25:31.738143",
            "user_variable_name": "sql_df_ttmb",
            "variable_name": "sql_df_ttmb"
          }
        },
        "dx": {
          "fieldMetadata": {},
          "simpleTable": true,
          "updated": 1692224040668,
          "views": []
        }
      },
      "execution_count": null,
      "source": "-- Calculating the average delay time for each of the top 10 airports\nSELECT\n    Origin AS Airport,\n    AVG(ArrDelay) AS Average_Delay_Time\nFROM `civic-beaker-391813.bts_flights.hist_flight`\nWHERE Reporting_Airline = 'AA' AND ArrDelay > 0 AND\n    Origin IN ('DFW', 'CLT', 'MIA', 'ORD', 'PHX', 'PHL', 'LAX', 'DCA', 'LGA', 'MCO')\nGROUP BY Origin\nORDER BY Average_Delay_Time DESC",
      "outputs": []
    },
    {
      "id": "1c31ff95-bbcc-455c-9e68-699b57f97041",
      "cell_type": "code",
      "metadata": {
        "noteable": {
          "assign_results_to": "sql_df_bqfk",
          "cell_type": "sql",
          "db_connection": "bts",
          "output_collection_id": "099035e4-9a4a-42c9-9898-55b309582b3f"
        },
        "ExecuteTime": {
          "end_time": "2023-08-14T22:27:44.237158+00:00",
          "start_time": "2023-08-14T22:27:41.430043+00:00"
        }
      },
      "execution_count": null,
      "source": "-- Extracting data for the top 10 airports for model building\nSELECT\n    Origin AS Airport,\n    year,\n    month,\n    DayOfWeek,\n    COUNT(*) AS num_delays,\n    AVG(ArrDelay) AS avg_delay_time\nFROM `civic-beaker-391813.bts_flights.hist_flight`\nWHERE Reporting_Airline = 'AA' AND\n    Origin IN ('DFW', 'CLT', 'MIA', 'ORD', 'PHX', 'PHL', 'LAX', 'DCA', 'LGA', 'MCO')\nGROUP BY year, month, DayOfWeek, Origin\nORDER BY year, month, DayOfWeek, Origin",
      "outputs": []
    },
    {
      "id": "616e6bf2-c5ee-404c-aad3-061cec191266",
      "cell_type": "code",
      "metadata": {
        "noteable": {
          "assign_results_to": "sql_df_zvum",
          "cell_type": "sql",
          "db_connection": "bts",
          "output_collection_id": "989981d4-71eb-4cc0-850b-168f42286406"
        },
        "ExecuteTime": {
          "end_time": "2023-08-14T22:28:21.233936+00:00",
          "start_time": "2023-08-14T22:28:17.708165+00:00"
        },
        "datalink": {
          "b67d35ca-2532-4b49-a1fc-4058f77a9829": {
            "applied_filters": [],
            "dataframe_info": {
              "default_index_used": true,
              "orig_num_cols": 4,
              "orig_num_rows": 4540,
              "orig_size_bytes": 181600,
              "truncated_num_cols": 4,
              "truncated_num_rows": 4540,
              "truncated_size_bytes": 181600,
              "truncated_string_columns": []
            },
            "display_id": "b67d35ca-2532-4b49-a1fc-4058f77a9829",
            "dx_settings": {
              "ALLOW_NOTEABLE_ATTRS": true,
              "COLUMN_SAMPLING_METHOD": "outer",
              "DB_LOCATION": ":memory:",
              "DEV_MODE": false,
              "DISPLAY_MAX_COLUMNS": 100,
              "DISPLAY_MAX_ROWS": 50000,
              "DISPLAY_MODE": "simple",
              "ENABLE_ASSIGNMENT": true,
              "ENABLE_DATALINK": true,
              "FLATTEN_COLUMN_VALUES": true,
              "FLATTEN_INDEX_VALUES": false,
              "GENERATE_DEX_METADATA": false,
              "HTML_TABLE_SCHEMA": false,
              "LOG_LEVEL": 30,
              "MAX_RENDER_SIZE_BYTES": 104857600,
              "MAX_STRING_LENGTH": 250,
              "NUM_PAST_SAMPLES_TRACKED": 3,
              "RANDOM_STATE": 12648430,
              "RESET_INDEX_VALUES": false,
              "ROW_SAMPLING_METHOD": "random",
              "SAMPLING_FACTOR": 0.1,
              "SAMPLING_METHOD": "random",
              "STRINGIFY_COLUMN_VALUES": true,
              "STRINGIFY_INDEX_VALUES": false
            },
            "sample_history": [],
            "sampling_time": "2023-08-14T22:28:20.908813",
            "user_variable_name": "sql_df_zvum",
            "variable_name": "sql_df_zvum"
          }
        },
        "dx": {
          "fieldMetadata": {},
          "simpleTable": true,
          "updated": 1692224662600,
          "views": []
        }
      },
      "execution_count": null,
      "source": "-- Correcting the column names and re-running the query\nSELECT\n    Origin AS Airport,\n    FlightDate,\n    COUNT(*) AS num_delays,\n    AVG(ArrDelay) AS avg_delay_time\nFROM `civic-beaker-391813.bts_flights.hist_flight`\nWHERE Reporting_Airline = 'AA' AND\n    Origin IN ('DFW', 'CLT', 'MIA', 'ORD', 'PHX', 'PHL', 'LAX', 'DCA', 'LGA', 'MCO')\nGROUP BY FlightDate, Origin\nORDER BY FlightDate, Origin",
      "outputs": []
    },
    {
      "id": "fa768e49-d1f9-479d-bfc4-88044f2d9c8d",
      "cell_type": "code",
      "metadata": {
        "noteable": {
          "cell_type": "code",
          "output_collection_id": "c8fdd476-fc5b-4ffb-ac4d-68a5617a6f5a"
        },
        "ExecuteTime": {
          "end_time": "2023-08-14T22:29:52.129088+00:00",
          "start_time": "2023-08-14T22:29:51.456244+00:00"
        }
      },
      "execution_count": null,
      "source": "import pandas as pd\nfrom sklearn.model_selection import train_test_split\nfrom sklearn.preprocessing import OneHotEncoder\nfrom tensorflow import keras\nfrom tensorflow.keras import layers\n\n# Convert the data to a pandas DataFrame\ndf = pd.DataFrame(sql_df_zvum)\n\n# Extract year, month, and day from FlightDate\ndf['year'] = pd.to_datetime(df['FlightDate']).dt.year\ndf['month'] = pd.to_datetime(df['FlightDate']).dt.month\ndf['day'] = pd.to_datetime(df['FlightDate']).dt.day\ndf.drop(columns=['FlightDate'], inplace=True)\n\n# One-hot encode the Airport column\nencoder = OneHotEncoder(drop='first')\nencoded_airports = encoder.fit_transform(df[['Airport']]).toarray()\nencoded_df = pd.DataFrame(encoded_airports, columns=encoder.get_feature_names(['Airport']))\n\n# Concatenate the one-hot encoded columns with the original dataframe\ndf = pd.concat([df, encoded_df], axis=1)\ndf.drop(columns=['Airport'], inplace=True)\n\n# Split the data into training and testing sets\nX = df.drop(columns=['num_delays', 'avg_delay_time'])\ny_num_delays = df['num_delays']\ny_avg_delay_time = df['avg_delay_time']\n\nX_train_num, X_test_num, y_train_num, y_test_num = train_test_split(X, y_num_delays, test_size=0.2, random_state=42)\nX_train_avg, X_test_avg, y_train_avg, y_test_avg = train_test_split(X, y_avg_delay_time, test_size=0.2, random_state=42)\n\n# Build the DNN model for predicting number of delays\nmodel_num_delays = keras.Sequential([\n    layers.Dense(128, activation='relu', input_shape=(X_train_num.shape[1],)),\n    layers.Dense(64, activation='relu'),\n    layers.Dense(32, activation='relu'),\n    layers.Dense(1)\n])\nmodel_num_delays.compile(optimizer='adam', loss='mse')\n\n# Build the DNN model for predicting average delay time\nmodel_avg_delay_time = keras.Sequential([\n    layers.Dense(128, activation='relu', input_shape=(X_train_avg.shape[1],)),\n    layers.Dense(64, activation='relu'),\n    layers.Dense(32, activation='relu'),\n    layers.Dense(1)\n])\nmodel_avg_delay_time.compile(optimizer='adam', loss='mse')\n\n# Train the models\nhistory_num_delays = model_num_delays.fit(X_train_num, y_train_num, epochs=100, validation_data=(X_test_num, y_test_num), verbose=0)\nhistory_avg_delay_time = model_avg_delay_time.fit(X_train_avg, y_train_avg, epochs=100, validation_data=(X_test_avg, y_test_avg), verbose=0)\n\n# Evaluate the models\nloss_num_delays = model_num_delays.evaluate(X_test_num, y_test_num, verbose=0)\nloss_avg_delay_time = model_avg_delay_time.evaluate(X_test_avg, y_test_avg, verbose=0)\n\nloss_num_delays, loss_avg_delay_time",
      "outputs": []
    },
    {
      "id": "05afae19-dd30-44ee-8347-34d294239d34",
      "cell_type": "code",
      "metadata": {
        "noteable": {
          "cell_type": "code",
          "output_collection_id": "8717228a-638f-4ef5-848b-3abd24c4227a"
        },
        "ExecuteTime": {
          "end_time": "2023-08-14T22:32:36.982369+00:00",
          "start_time": "2023-08-14T22:32:36.735916+00:00"
        }
      },
      "execution_count": null,
      "source": "from sklearn.ensemble import RandomForestRegressor\nfrom sklearn.metrics import mean_squared_error\n\n# Initialize the Random Forest Regressor models\nrf_model_num_delays = RandomForestRegressor(n_estimators=100, random_state=42)\nrf_model_avg_delay_time = RandomForestRegressor(n_estimators=100, random_state=42)\n\n# Train the models\nrf_model_num_delays.fit(X_train_num, y_train_num)\nrf_model_avg_delay_time.fit(X_train_avg, y_train_avg)\n\n# Predict on the test set\ny_pred_num_delays = rf_model_num_delays.predict(X_test_num)\ny_pred_avg_delay_time = rf_model_avg_delay_time.predict(X_test_avg)\n\n# Calculate the Mean Squared Error for both models\nmse_num_delays = mean_squared_error(y_test_num, y_pred_num_delays)\nmse_avg_delay_time = mean_squared_error(y_test_avg, y_pred_avg_delay_time)\n\nmse_num_delays, mse_avg_delay_time",
      "outputs": []
    },
    {
      "id": "8e49af77-d1cc-41e8-b3d2-581c15495b35",
      "cell_type": "code",
      "metadata": {
        "noteable": {
          "cell_type": "code",
          "output_collection_id": "255a180d-ff2f-4733-9b16-09fe7de15a5e"
        },
        "ExecuteTime": {
          "end_time": "2023-08-14T22:33:29.767147+00:00",
          "start_time": "2023-08-14T22:33:29.572295+00:00"
        }
      },
      "execution_count": null,
      "source": "from sklearn.ensemble import RandomForestRegressor\nfrom sklearn.metrics import mean_squared_error\n\n# Data Preparation and Feature Engineering\ndf['year'] = pd.to_datetime(df['FlightDate']).dt.year\ndf['month'] = pd.to_datetime(df['FlightDate']).dt.month\ndf['day'] = pd.to_datetime(df['FlightDate']).dt.day\ndf.drop(columns=['FlightDate'], inplace=True)\nencoder = OneHotEncoder(drop='first')\nencoded_airports = encoder.fit_transform(df[['Airport']]).toarray()\nencoded_df = pd.DataFrame(encoded_airports, columns=encoder.get_feature_names(['Airport']))\ndf = pd.concat([df, encoded_df], axis=1)\ndf.drop(columns=['Airport'], inplace=True)\n\n# Splitting the data\nX = df.drop(columns=['num_delays', 'avg_delay_time'])\ny_num_delays = df['num_delays']\ny_avg_delay_time = df['avg_delay_time']\nX_train_num, X_test_num, y_train_num, y_test_num = train_test_split(X, y_num_delays, test_size=0.2, random_state=42)\nX_train_avg, X_test_avg, y_train_avg, y_test_avg = train_test_split(X, y_avg_delay_time, test_size=0.2, random_state=42)\n\n# Initialize and train the Random Forest Regressor models\nrf_model_num_delays = RandomForestRegressor(n_estimators=100, random_state=42).fit(X_train_num, y_train_num)\nrf_model_avg_delay_time = RandomForestRegressor(n_estimators=100, random_state=42).fit(X_train_avg, y_train_avg)\n\n# Predictions and evaluation\ny_pred_num_delays = rf_model_num_delays.predict(X_test_num)\ny_pred_avg_delay_time = rf_model_avg_delay_time.predict(X_test_avg)\nmse_num_delays = mean_squared_error(y_test_num, y_pred_num_delays)\nmse_avg_delay_time = mean_squared_error(y_test_avg, y_pred_avg_delay_time)\n\nmse_num_delays, mse_avg_delay_time",
      "outputs": []
    },
    {
      "id": "600a5dea-719c-4c92-a4ed-55ad1cced492",
      "cell_type": "code",
      "metadata": {
        "noteable": {
          "cell_type": "code",
          "output_collection_id": "e1a26aaa-c491-4c4d-b875-3f911c8a9622"
        },
        "ExecuteTime": {
          "end_time": "2023-08-14T22:38:12.844019+00:00",
          "start_time": "2023-08-14T22:38:12.641780+00:00"
        }
      },
      "execution_count": null,
      "source": "from sklearn.ensemble import RandomForestRegressor\nfrom sklearn.metrics import mean_squared_error\nfrom sklearn.preprocessing import OneHotEncoder\nfrom sklearn.model_selection import train_test_split\n\n# Convert the data to a pandas DataFrame\ndf = pd.DataFrame(sql_df_6c8f)\n\n# Extract year, month, and day from FlightDate\ndf['year'] = pd.to_datetime(df['FlightDate']).dt.year\ndf['month'] = pd.to_datetime(df['FlightDate']).dt.month\ndf['day'] = pd.to_datetime(df['FlightDate']).dt.day\ndf.drop(columns=['FlightDate'], inplace=True)\n\n# One-hot encode the Airport column\nencoder = OneHotEncoder(drop='first')\nencoded_airports = encoder.fit_transform(df[['Airport']]).toarray()\nencoded_df = pd.DataFrame(encoded_airports, columns=encoder.get_feature_names(['Airport']))\n\n# Concatenate the one-hot encoded columns with the original dataframe\ndf = pd.concat([df, encoded_df], axis=1)\ndf.drop(columns=['Airport'], inplace=True)\n\n# Split the data into training and testing sets\nX = df.drop(columns=['num_delays', 'avg_delay_time'])\ny_num_delays = df['num_delays']\ny_avg_delay_time = df['avg_delay_time']\n\nX_train_num, X_test_num, y_train_num, y_test_num = train_test_split(X, y_num_delays, test_size=0.2, random_state=42)\nX_train_avg, X_test_avg, y_train_avg, y_test_avg = train_test_split(X, y_avg_delay_time, test_size=0.2, random_state=42)\n\n# Initialize the Random Forest Regressor models\nrf_model_num_delays = RandomForestRegressor(n_estimators=100, random_state=42)\nrf_model_avg_delay_time = RandomForestRegressor(n_estimators=100, random_state=42)\n\n# Train the models\nrf_model_num_delays.fit(X_train_num, y_train_num)\nrf_model_avg_delay_time.fit(X_train_avg, y_train_avg)\n\n# Predict on the test set\ny_pred_num_delays = rf_model_num_delays.predict(X_test_num)\ny_pred_avg_delay_time = rf_model_avg_delay_time.predict(X_test_avg)\n\n# Calculate the Mean Squared Error for both models\nmse_num_delays = mean_squared_error(y_test_num, y_pred_num_delays)\nmse_avg_delay_time = mean_squared_error(y_test_avg, y_pred_avg_delay_time)\n\nmse_num_delays, mse_avg_delay_time",
      "outputs": []
    },
    {
      "id": "e0f51cb9-1fd0-4143-820a-580e2b6ff8d5",
      "cell_type": "code",
      "metadata": {
        "noteable": {
          "cell_type": "code",
          "output_collection_id": "be72589b-d3a5-4572-b11b-b85e10c10bba"
        },
        "ExecuteTime": {
          "end_time": "2023-08-14T22:39:16.935598+00:00",
          "start_time": "2023-08-14T22:39:16.739834+00:00"
        }
      },
      "execution_count": null,
      "source": "from sklearn.ensemble import RandomForestRegressor\nfrom sklearn.metrics import mean_squared_error\nfrom sklearn.preprocessing import OneHotEncoder\nfrom sklearn.model_selection import train_test_split\n\n# Convert the data to a pandas DataFrame\ndf = pd.DataFrame(data)\n\n# Extract year, month, and day from FlightDate\ndf['year'] = pd.to_datetime(df['FlightDate']).dt.year\ndf['month'] = pd.to_datetime(df['FlightDate']).dt.month\ndf['day'] = pd.to_datetime(df['FlightDate']).dt.day\ndf.drop(columns=['FlightDate'], inplace=True)\n\n# One-hot encode the Airport column\nencoder = OneHotEncoder(drop='first')\nencoded_airports = encoder.fit_transform(df[['Airport']]).toarray()\nencoded_df = pd.DataFrame(encoded_airports, columns=encoder.get_feature_names(['Airport']))\n\n# Concatenate the one-hot encoded columns with the original dataframe\ndf = pd.concat([df, encoded_df], axis=1)\ndf.drop(columns=['Airport'], inplace=True)\n\n# Split the data into training and testing sets\nX = df.drop(columns=['num_delays', 'avg_delay_time'])\ny_num_delays = df['num_delays']\ny_avg_delay_time = df['avg_delay_time']\n\nX_train_num, X_test_num, y_train_num, y_test_num = train_test_split(X, y_num_delays, test_size=0.2, random_state=42)\nX_train_avg, X_test_avg, y_train_avg, y_test_avg = train_test_split(X, y_avg_delay_time, test_size=0.2, random_state=42)\n\n# Initialize the Random Forest Regressor models\nrf_model_num_delays = RandomForestRegressor(n_estimators=100, random_state=42)\nrf_model_avg_delay_time = RandomForestRegressor(n_estimators=100, random_state=42)\n\n# Train the models\nrf_model_num_delays.fit(X_train_num, y_train_num)\nrf_model_avg_delay_time.fit(X_train_avg, y_train_avg)\n\n# Predict on the test set\ny_pred_num_delays = rf_model_num_delays.predict(X_test_num)\ny_pred_avg_delay_time = rf_model_avg_delay_time.predict(X_test_avg)\n\n# Calculate the Mean Squared Error for both models\nmse_num_delays = mean_squared_error(y_test_num, y_pred_num_delays)\nmse_avg_delay_time = mean_squared_error(y_test_avg, y_pred_avg_delay_time)\n\nmse_num_delays, mse_avg_delay_time",
      "outputs": []
    },
    {
      "id": "f054be31-2963-48a9-a41c-6567d8e351b0",
      "cell_type": "code",
      "metadata": {
        "noteable": {
          "cell_type": "code",
          "output_collection_id": "40e45598-e0a8-46dc-83ee-62fe0971411d"
        },
        "ExecuteTime": {
          "end_time": "2023-08-14T22:40:21.642091+00:00",
          "start_time": "2023-08-14T22:40:21.443825+00:00"
        }
      },
      "execution_count": null,
      "source": "from sklearn.ensemble import RandomForestRegressor\nfrom sklearn.metrics import mean_squared_error\nfrom sklearn.preprocessing import OneHotEncoder\nfrom sklearn.model_selection import train_test_split\n\n# Convert the data to a pandas DataFrame\ndf = pd.DataFrame(sql_df_8c5f)\n\n# Extract year, month, and day from FlightDate\ndf['year'] = pd.to_datetime(df['FlightDate']).dt.year\ndf['month'] = pd.to_datetime(df['FlightDate']).dt.month\ndf['day'] = pd.to_datetime(df['FlightDate']).dt.day\ndf.drop(columns=['FlightDate'], inplace=True)\n\n# One-hot encode the Airport column\nencoder = OneHotEncoder(drop='first')\nencoded_airports = encoder.fit_transform(df[['Airport']]).toarray()\nencoded_df = pd.DataFrame(encoded_airports, columns=encoder.get_feature_names(['Airport']))\n\n# Concatenate the one-hot encoded columns with the original dataframe\ndf = pd.concat([df, encoded_df], axis=1)\ndf.drop(columns=['Airport'], inplace=True)\n\n# Split the data into training and testing sets\nX = df.drop(columns=['num_delays', 'avg_delay_time'])\ny_num_delays = df['num_delays']\ny_avg_delay_time = df['avg_delay_time']\n\nX_train_num, X_test_num, y_train_num, y_test_num = train_test_split(X, y_num_delays, test_size=0.2, random_state=42)\nX_train_avg, X_test_avg, y_train_avg, y_test_avg = train_test_split(X, y_avg_delay_time, test_size=0.2, random_state=42)\n\n# Initialize the Random Forest Regressor models\nrf_model_num_delays = RandomForestRegressor(n_estimators=100, random_state=42)\nrf_model_avg_delay_time = RandomForestRegressor(n_estimators=100, random_state=42)\n\n# Train the models\nrf_model_num_delays.fit(X_train_num, y_train_num)\nrf_model_avg_delay_time.fit(X_train_avg, y_train_avg)\n\n# Predict on the test set\ny_pred_num_delays = rf_model_num_delays.predict(X_test_num)\ny_pred_avg_delay_time = rf_model_avg_delay_time.predict(X_test_avg)\n\n# Calculate the Mean Squared Error for both models\nmse_num_delays = mean_squared_error(y_test_num, y_pred_num_delays)\nmse_avg_delay_time = mean_squared_error(y_test_avg, y_pred_avg_delay_time)\n\nmse_num_delays, mse_avg_delay_time",
      "outputs": []
    },
    {
      "id": "a2d6f650-de60-4715-9f68-c61152c8303d",
      "cell_type": "code",
      "metadata": {
        "noteable": {
          "cell_type": "code",
          "output_collection_id": "353f9f86-1092-457d-80e7-360439169c04"
        },
        "ExecuteTime": {
          "end_time": "2023-08-14T22:41:25.183159+00:00",
          "start_time": "2023-08-14T22:41:24.989940+00:00"
        }
      },
      "execution_count": null,
      "source": "from sklearn.ensemble import RandomForestRegressor\nfrom sklearn.metrics import mean_squared_error\nfrom sklearn.preprocessing import OneHotEncoder\nfrom sklearn.model_selection import train_test_split\n\n# Convert the data to a pandas DataFrame\ndf = pd.DataFrame(data)\n\n# Extract year, month, and day from FlightDate\ndf['year'] = pd.to_datetime(df['FlightDate']).dt.year\ndf['month'] = pd.to_datetime(df['FlightDate']).dt.month\ndf['day'] = pd.to_datetime(df['FlightDate']).dt.day\ndf.drop(columns=['FlightDate'], inplace=True)\n\n# One-hot encode the Airport column\nencoder = OneHotEncoder(drop='first')\nencoded_airports = encoder.fit_transform(df[['Airport']]).toarray()\nencoded_df = pd.DataFrame(encoded_airports, columns=encoder.get_feature_names(['Airport']))\n\n# Concatenate the one-hot encoded columns with the original dataframe\ndf = pd.concat([df, encoded_df], axis=1)\ndf.drop(columns=['Airport'], inplace=True)\n\n# Split the data into training and testing sets\nX = df.drop(columns=['num_delays', 'avg_delay_time'])\ny_num_delays = df['num_delays']\ny_avg_delay_time = df['avg_delay_time']\n\nX_train_num, X_test_num, y_train_num, y_test_num = train_test_split(X, y_num_delays, test_size=0.2, random_state=42)\nX_train_avg, X_test_avg, y_train_avg, y_test_avg = train_test_split(X, y_avg_delay_time, test_size=0.2, random_state=42)\n\n# Initialize the Random Forest Regressor models\nrf_model_num_delays = RandomForestRegressor(n_estimators=100, random_state=42)\nrf_model_avg_delay_time = RandomForestRegressor(n_estimators=100, random_state=42)\n\n# Train the models\nrf_model_num_delays.fit(X_train_num, y_train_num)\nrf_model_avg_delay_time.fit(X_train_avg, y_train_avg)\n\n# Predict on the test set\ny_pred_num_delays = rf_model_num_delays.predict(X_test_num)\ny_pred_avg_delay_time = rf_model_avg_delay_time.predict(X_test_avg)\n\n# Calculate the Mean Squared Error for both models\nmse_num_delays = mean_squared_error(y_test_num, y_pred_num_delays)\nmse_avg_delay_time = mean_squared_error(y_test_avg, y_pred_avg_delay_time)\n\nmse_num_delays, mse_avg_delay_time",
      "outputs": []
    },
    {
      "id": "707eafcd-dcad-4cfb-a312-b0a729939a5c",
      "cell_type": "code",
      "metadata": {
        "noteable": {
          "cell_type": "code",
          "output_collection_id": "f6174fa1-1099-47f5-9a93-1d944e29d353"
        },
        "ExecuteTime": {
          "end_time": "2023-08-14T22:42:23.036970+00:00",
          "start_time": "2023-08-14T22:42:22.845873+00:00"
        }
      },
      "execution_count": null,
      "source": "from sklearn.ensemble import RandomForestRegressor\nfrom sklearn.metrics import mean_squared_error\nfrom sklearn.preprocessing import OneHotEncoder\nfrom sklearn.model_selection import train_test_split\n\n# Convert the data to a pandas DataFrame\ndf = pd.DataFrame(sql_df_8c5f)\n\n# Extract year, month, and day from FlightDate\ndf['year'] = pd.to_datetime(df['FlightDate']).dt.year\ndf['month'] = pd.to_datetime(df['FlightDate']).dt.month\ndf['day'] = pd.to_datetime(df['FlightDate']).dt.day\ndf.drop(columns=['FlightDate'], inplace=True)\n\n# One-hot encode the Airport column\nencoder = OneHotEncoder(drop='first')\nencoded_airports = encoder.fit_transform(df[['Airport']]).toarray()\nencoded_df = pd.DataFrame(encoded_airports, columns=encoder.get_feature_names(['Airport']))\n\n# Concatenate the one-hot encoded columns with the original dataframe\ndf = pd.concat([df, encoded_df], axis=1)\ndf.drop(columns=['Airport'], inplace=True)\n\n# Split the data into training and testing sets\nX = df.drop(columns=['num_delays', 'avg_delay_time'])\ny_num_delays = df['num_delays']\ny_avg_delay_time = df['avg_delay_time']\n\nX_train_num, X_test_num, y_train_num, y_test_num = train_test_split(X, y_num_delays, test_size=0.2, random_state=42)\nX_train_avg, X_test_avg, y_train_avg, y_test_avg = train_test_split(X, y_avg_delay_time, test_size=0.2, random_state=42)\n\n# Initialize the Random Forest Regressor models\nrf_model_num_delays = RandomForestRegressor(n_estimators=100, random_state=42)\nrf_model_avg_delay_time = RandomForestRegressor(n_estimators=100, random_state=42)\n\n# Train the models\nrf_model_num_delays.fit(X_train_num, y_train_num)\nrf_model_avg_delay_time.fit(X_train_avg, y_train_avg)\n\n# Predict on the test set\ny_pred_num_delays = rf_model_num_delays.predict(X_test_num)\ny_pred_avg_delay_time = rf_model_avg_delay_time.predict(X_test_avg)\n\n# Calculate the Mean Squared Error for both models\nmse_num_delays = mean_squared_error(y_test_num, y_pred_num_delays)\nmse_avg_delay_time = mean_squared_error(y_test_avg, y_pred_avg_delay_time)\n\nmse_num_delays, mse_avg_delay_time",
      "outputs": []
    },
    {
      "id": "78d2648c-819c-442b-bef4-32fb005f503d",
      "cell_type": "code",
      "metadata": {
        "noteable": {
          "cell_type": "code",
          "output_collection_id": "2436b33d-8d19-4db1-b5a6-d84be6633685"
        },
        "ExecuteTime": {
          "end_time": "2023-08-14T22:43:28.139983+00:00",
          "start_time": "2023-08-14T22:43:27.942211+00:00"
        }
      },
      "execution_count": null,
      "source": "from sklearn.ensemble import RandomForestRegressor\nfrom sklearn.metrics import mean_squared_error\nfrom sklearn.preprocessing import OneHotEncoder\nfrom sklearn.model_selection import train_test_split\n\n# Convert the data to a pandas DataFrame\ndf = pd.DataFrame(data_8c5f)\n\n# Extract year, month, and day from FlightDate\ndf['year'] = pd.to_datetime(df['FlightDate']).dt.year\ndf['month'] = pd.to_datetime(df['FlightDate']).dt.month\ndf['day'] = pd.to_datetime(df['FlightDate']).dt.day\ndf.drop(columns=['FlightDate'], inplace=True)\n\n# One-hot encode the Airport column\nencoder = OneHotEncoder(drop='first')\nencoded_airports = encoder.fit_transform(df[['Airport']]).toarray()\nencoded_df = pd.DataFrame(encoded_airports, columns=encoder.get_feature_names(['Airport']))\n\n# Concatenate the one-hot encoded columns with the original dataframe\ndf = pd.concat([df, encoded_df], axis=1)\ndf.drop(columns=['Airport'], inplace=True)\n\n# Split the data into training and testing sets\nX = df.drop(columns=['num_delays', 'avg_delay_time'])\ny_num_delays = df['num_delays']\ny_avg_delay_time = df['avg_delay_time']\n\nX_train_num, X_test_num, y_train_num, y_test_num = train_test_split(X, y_num_delays, test_size=0.2, random_state=42)\nX_train_avg, X_test_avg, y_train_avg, y_test_avg = train_test_split(X, y_avg_delay_time, test_size=0.2, random_state=42)\n\n# Initialize the Random Forest Regressor models\nrf_model_num_delays = RandomForestRegressor(n_estimators=100, random_state=42)\nrf_model_avg_delay_time = RandomForestRegressor(n_estimators=100, random_state=42)\n\n# Train the models\nrf_model_num_delays.fit(X_train_num, y_train_num)\nrf_model_avg_delay_time.fit(X_train_avg, y_train_avg)\n\n# Predict on the test set\ny_pred_num_delays = rf_model_num_delays.predict(X_test_num)\ny_pred_avg_delay_time = rf_model_avg_delay_time.predict(X_test_avg)\n\n# Calculate the Mean Squared Error for both models\nmse_num_delays = mean_squared_error(y_test_num, y_pred_num_delays)\nmse_avg_delay_time = mean_squared_error(y_test_avg, y_pred_avg_delay_time)\n\nmse_num_delays, mse_avg_delay_time",
      "outputs": []
    },
    {
      "id": "a4935348-aa23-4235-a911-f90688b911e4",
      "cell_type": "code",
      "metadata": {
        "noteable": {
          "cell_type": "code",
          "output_collection_id": "d6a51760-1f6c-4b66-96b2-86fe3e3c69f4"
        },
        "ExecuteTime": {
          "end_time": "2023-08-14T22:44:31.013837+00:00",
          "start_time": "2023-08-14T22:44:30.820184+00:00"
        }
      },
      "execution_count": null,
      "source": "from sklearn.ensemble import RandomForestRegressor\nfrom sklearn.metrics import mean_squared_error\nfrom sklearn.preprocessing import OneHotEncoder\nfrom sklearn.model_selection import train_test_split\n\n# Convert the data to a pandas DataFrame\ndf = pd.DataFrame(data)\n\n# Extract year, month, and day from FlightDate\ndf['year'] = pd.to_datetime(df['FlightDate']).dt.year\ndf['month'] = pd.to_datetime(df['FlightDate']).dt.month\ndf['day'] = pd.to_datetime(df['FlightDate']).dt.day\ndf.drop(columns=['FlightDate'], inplace=True)\n\n# One-hot encode the Airport column\nencoder = OneHotEncoder(drop='first')\nencoded_airports = encoder.fit_transform(df[['Airport']]).toarray()\nencoded_df = pd.DataFrame(encoded_airports, columns=encoder.get_feature_names(['Airport']))\n\n# Concatenate the one-hot encoded columns with the original dataframe\ndf = pd.concat([df, encoded_df], axis=1)\ndf.drop(columns=['Airport'], inplace=True)\n\n# Split the data into training and testing sets\nX = df.drop(columns=['num_delays', 'avg_delay_time'])\ny_num_delays = df['num_delays']\ny_avg_delay_time = df['avg_delay_time']\n\nX_train_num, X_test_num, y_train_num, y_test_num = train_test_split(X, y_num_delays, test_size=0.2, random_state=42)\nX_train_avg, X_test_avg, y_train_avg, y_test_avg = train_test_split(X, y_avg_delay_time, test_size=0.2, random_state=42)\n\n# Initialize the Random Forest Regressor models\nrf_model_num_delays = RandomForestRegressor(n_estimators=100, random_state=42)\nrf_model_avg_delay_time = RandomForestRegressor(n_estimators=100, random_state=42)\n\n# Train the models\nrf_model_num_delays.fit(X_train_num, y_train_num)\nrf_model_avg_delay_time.fit(X_train_avg, y_train_avg)\n\n# Predict on the test set\ny_pred_num_delays = rf_model_num_delays.predict(X_test_num)\ny_pred_avg_delay_time = rf_model_avg_delay_time.predict(X_test_avg)\n\n# Calculate the Mean Squared Error for both models\nmse_num_delays = mean_squared_error(y_test_num, y_pred_num_delays)\nmse_avg_delay_time = mean_squared_error(y_test_avg, y_pred_avg_delay_time)\n\nmse_num_delays, mse_avg_delay_time",
      "outputs": []
    }
  ]
}